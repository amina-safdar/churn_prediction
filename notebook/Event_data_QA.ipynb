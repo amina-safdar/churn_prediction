{
  "nbformat": 4,
  "nbformat_minor": 0,
  "metadata": {
    "colab": {
      "provenance": []
    },
    "kernelspec": {
      "name": "python3",
      "display_name": "Python 3"
    },
    "language_info": {
      "name": "python"
    }
  },
  "cells": [
    {
      "cell_type": "markdown",
      "source": [
        "\n",
        "**Event data QA**\n",
        "\n",
        "This notebook analyzes Manning's liveBook event data for quality assurance (QA). The assessed data was collected over six months from December 1, 2019 through June 1, 2020. \n",
        "\n",
        "---\n",
        "\n",
        "1. Find popular event types using results from `events_per_account.sql`\n",
        "2. Check for anomalies in each event with simple time-series plots that use results from `events_per_day.sql`\n",
        "  - Check if these follow weekly cycles like most real events (weekly behavioural cycles) weekly cycle ot B2C and B2B software use. usage is significantly hier on the weekdays and much slowero nthe weekends. calc % use diff between weekend and weekday to confirm\n",
        " \n",
        "\n",
        "- Basic customer metrics\n",
        "- Create customer dataset\n",
        "\n"
      ],
      "metadata": {
        "id": "VTpHvP1Srlwy"
      }
    },
    {
      "cell_type": "code",
      "source": [
        "!pip install plotly --upgrade"
      ],
      "metadata": {
        "colab": {
          "base_uri": "https://localhost:8080/"
        },
        "id": "k_NjW1tMhetf",
        "outputId": "781b235c-49ba-4a04-9c5e-6a33e2c1a27e"
      },
      "execution_count": 1,
      "outputs": [
        {
          "output_type": "stream",
          "name": "stdout",
          "text": [
            "Looking in indexes: https://pypi.org/simple, https://us-python.pkg.dev/colab-wheels/public/simple/\n",
            "Requirement already satisfied: plotly in /usr/local/lib/python3.10/dist-packages (5.14.1)\n",
            "Requirement already satisfied: tenacity>=6.2.0 in /usr/local/lib/python3.10/dist-packages (from plotly) (8.2.2)\n",
            "Requirement already satisfied: packaging in /usr/local/lib/python3.10/dist-packages (from plotly) (23.1)\n"
          ]
        }
      ]
    },
    {
      "cell_type": "code",
      "source": [
        "from google.colab import auth\n",
        "from google.auth import default\n",
        "import gspread\n",
        "import pandas as pd\n",
        "import plotly.express as px"
      ],
      "metadata": {
        "id": "GOJWdyYZhvj3"
      },
      "execution_count": 2,
      "outputs": []
    },
    {
      "cell_type": "code",
      "execution_count": 3,
      "metadata": {
        "id": "GbaTwrgqZDZJ"
      },
      "outputs": [],
      "source": [
        "auth.authenticate_user()\n",
        "\n",
        "creds, _ = default()\n",
        "\n",
        "# Save events_per_account.gsheet as a Pandas DataFrame\n",
        "gc = gspread.authorize(creds)\n",
        "worksheet = gc.open('events_per_account').sheet1\n",
        "rows = worksheet.get_all_values() \n",
        "account_metrics = pd.DataFrame.from_records(rows)"
      ]
    },
    {
      "cell_type": "markdown",
      "source": [
        "\n",
        "### Find popular events with `events_per_account`\n",
        "\n",
        "---\n",
        " \n",
        "- What event types are most common?\n",
        "- What event types are least common?\n",
        "- What event types do customers average at least 1 event per month?"
      ],
      "metadata": {
        "id": "t2pvtq-LIt73"
      }
    },
    {
      "cell_type": "markdown",
      "source": [
        "\n",
        "---\n",
        "\n",
        "**Prepare `account_metrics` DataFrame**\n",
        "\n",
        "This DataFrame contains the number of events per account and events per account per month for each type of liveBook event."
      ],
      "metadata": {
        "id": "OHNmOxrdqnjG"
      }
    },
    {
      "cell_type": "code",
      "source": [
        "# Set header\n",
        "account_metrics.columns = rows[0]\n",
        "account_metrics = account_metrics[1:]"
      ],
      "metadata": {
        "id": "2OaAOpLzbIs_"
      },
      "execution_count": 4,
      "outputs": []
    },
    {
      "cell_type": "code",
      "source": [
        "# Convert numerical columns\n",
        "num_cols = ['event_count', 'account_count', 'events_per_account', 'month_count', 'events_per_account_per_month']\n",
        "account_metrics[num_cols] = account_metrics[num_cols].apply(pd.to_numeric, errors='coerce')\n",
        "# Verify \n",
        "account_metrics.dtypes"
      ],
      "metadata": {
        "colab": {
          "base_uri": "https://localhost:8080/"
        },
        "id": "mJ_EciMRenGw",
        "outputId": "e5cf9d99-0760-4cad-9d5e-647b8d9b95b1"
      },
      "execution_count": 5,
      "outputs": [
        {
          "output_type": "execute_result",
          "data": {
            "text/plain": [
              "event_type                       object\n",
              "event_count                       int64\n",
              "account_count                     int64\n",
              "events_per_account              float64\n",
              "month_count                       int64\n",
              "events_per_account_per_month    float64\n",
              "dtype: object"
            ]
          },
          "metadata": {},
          "execution_count": 5
        }
      ]
    },
    {
      "cell_type": "code",
      "source": [
        "# Compute event frequency \n",
        "event_total = account_metrics.event_count.sum() # 3156212\n",
        "account_metrics['event_pct'] = account_metrics.apply(lambda x: x.event_count/event_total*100, axis=1)"
      ],
      "metadata": {
        "id": "t0vUNfFDktl0"
      },
      "execution_count": 6,
      "outputs": []
    },
    {
      "cell_type": "markdown",
      "source": [
        "Over 3 million (3156212) liveBook events were logged by 88375 active accounts over the 6-month measurement period."
      ],
      "metadata": {
        "id": "HPPQQ9pdv35h"
      }
    },
    {
      "cell_type": "markdown",
      "source": [
        "\n",
        "**Find popular events**"
      ],
      "metadata": {
        "id": "0axXBwO-qZXG"
      }
    },
    {
      "cell_type": "code",
      "source": [
        "# Sort by `events_per_account_per_month`\n",
        "account_metrics.sort_values(by='events_per_account_per_month', ascending=True, inplace=True)\n",
        "\n",
        "# Plot\n",
        "fig = px.bar(account_metrics, y='event_type', x='events_per_account_per_month', title='Popular events', height=1000)\n",
        "fig.update_xaxes(title_text=None, showgrid=False, nticks=10, ticks=\"outside\", tickcolor='#003f5c', ticklen=3)\n",
        "fig.update_yaxes(title_text=None, ticks=\"outside\", tickcolor='white', ticklen=10)\n",
        "fig.update_layout( \n",
        "    font_family='Open Sans', \n",
        "    xaxis={'side': 'top'},\n",
        "    showlegend=False,\n",
        "    hoverlabel=dict(\n",
        "        bgcolor=\"white\",\n",
        "        font_size=10))\n",
        "fig.add_vrect(x0=0, x1=0.1, fillcolor=\"white\", opacity=0.35, layer=\"above\", line_width=0)\n",
        "fig.update_traces(hovertemplate=\"%{x} %{y} events per account per month\")\n",
        "fig.show()"
      ],
      "metadata": {
        "colab": {
          "base_uri": "https://localhost:8080/",
          "height": 1000
        },
        "id": "vN_Sc_Tgij9t",
        "outputId": "3b848b8e-46af-4984-986d-8db41ce1bbb4"
      },
      "execution_count": 7,
      "outputs": [
        {
          "output_type": "display_data",
          "data": {
            "text/html": [
              "<html>\n",
              "<head><meta charset=\"utf-8\" /></head>\n",
              "<body>\n",
              "    <div>            <script src=\"https://cdnjs.cloudflare.com/ajax/libs/mathjax/2.7.5/MathJax.js?config=TeX-AMS-MML_SVG\"></script><script type=\"text/javascript\">if (window.MathJax && window.MathJax.Hub && window.MathJax.Hub.Config) {window.MathJax.Hub.Config({SVG: {font: \"STIX-Web\"}});}</script>                <script type=\"text/javascript\">window.PlotlyConfig = {MathJaxConfig: 'local'};</script>\n",
              "        <script src=\"https://cdn.plot.ly/plotly-2.18.2.min.js\"></script>                <div id=\"83855c4f-a4c4-49d9-85a6-153f94cb6b6a\" class=\"plotly-graph-div\" style=\"height:1000px; width:100%;\"></div>            <script type=\"text/javascript\">                                    window.PLOTLYENV=window.PLOTLYENV || {};                                    if (document.getElementById(\"83855c4f-a4c4-49d9-85a6-153f94cb6b6a\")) {                    Plotly.newPlot(                        \"83855c4f-a4c4-49d9-85a6-153f94cb6b6a\",                        [{\"alignmentgroup\":\"True\",\"hovertemplate\":\"%{x} %{y} events per account per month\",\"legendgroup\":\"\",\"marker\":{\"color\":\"#636efa\",\"pattern\":{\"shape\":\"\"}},\"name\":\"\",\"offsetgroup\":\"\",\"orientation\":\"h\",\"showlegend\":false,\"textposition\":\"auto\",\"x\":[0.0,0.0,0.0,0.0,0.0,0.0,0.0,0.0,0.01,0.01,0.01,0.01,0.01,0.01,0.01,0.01,0.01,0.02,0.02,0.04,0.04,0.05,0.06,0.07,0.09,0.12,0.16,0.18,0.22,0.22,0.25,0.52,1.2,1.2,1.38],\"xaxis\":\"x\",\"y\":[\"CommentCreated\",\"ShareableLinkOpened\",\"RemoveProductOffering\",\"AddOrUpdateCoupon\",\"UnknownOriginLivebookLinkOpened\",\"ProductSeeFreeLinkOpened\",\"SherlockHolmesClueFound\",\"ProductLiveaudioUpsell\",\"ShareableLinkCreated\",\"LivebookRegistration\",\"UpvoteGiven\",\"NoteCreated\",\"AddProductOffering\",\"OrderConfirmationLivebookLinkOpened\",\"ExerciseSolved\",\"LivebookAccountConfirmation\",\"GoToManningShoppingCart\",\"EBookRegistration\",\"BookmarkCreated\",\"ProductLookInsideLivebookLinkOpened\",\"SearchResultOpened\",\"SearchMade\",\"CrossReferenceTermOpened\",\"WishlistItemAdded\",\"DashboardLivebookLinkOpened\",\"LivebookLogin\",\"ProductTocLivebookLinkOpened\",\"ReadingOpenChapter\",\"HighlightCreated\",\"FreeContentCheckout\",\"ReadingFreePreview\",\"EBookDownloaded\",\"FirstManningAccess\",\"FirstLivebookAccess\",\"ReadingOwnedBook\"],\"yaxis\":\"y\",\"type\":\"bar\"}],                        {\"template\":{\"data\":{\"histogram2dcontour\":[{\"type\":\"histogram2dcontour\",\"colorbar\":{\"outlinewidth\":0,\"ticks\":\"\"},\"colorscale\":[[0.0,\"#0d0887\"],[0.1111111111111111,\"#46039f\"],[0.2222222222222222,\"#7201a8\"],[0.3333333333333333,\"#9c179e\"],[0.4444444444444444,\"#bd3786\"],[0.5555555555555556,\"#d8576b\"],[0.6666666666666666,\"#ed7953\"],[0.7777777777777778,\"#fb9f3a\"],[0.8888888888888888,\"#fdca26\"],[1.0,\"#f0f921\"]]}],\"choropleth\":[{\"type\":\"choropleth\",\"colorbar\":{\"outlinewidth\":0,\"ticks\":\"\"}}],\"histogram2d\":[{\"type\":\"histogram2d\",\"colorbar\":{\"outlinewidth\":0,\"ticks\":\"\"},\"colorscale\":[[0.0,\"#0d0887\"],[0.1111111111111111,\"#46039f\"],[0.2222222222222222,\"#7201a8\"],[0.3333333333333333,\"#9c179e\"],[0.4444444444444444,\"#bd3786\"],[0.5555555555555556,\"#d8576b\"],[0.6666666666666666,\"#ed7953\"],[0.7777777777777778,\"#fb9f3a\"],[0.8888888888888888,\"#fdca26\"],[1.0,\"#f0f921\"]]}],\"heatmap\":[{\"type\":\"heatmap\",\"colorbar\":{\"outlinewidth\":0,\"ticks\":\"\"},\"colorscale\":[[0.0,\"#0d0887\"],[0.1111111111111111,\"#46039f\"],[0.2222222222222222,\"#7201a8\"],[0.3333333333333333,\"#9c179e\"],[0.4444444444444444,\"#bd3786\"],[0.5555555555555556,\"#d8576b\"],[0.6666666666666666,\"#ed7953\"],[0.7777777777777778,\"#fb9f3a\"],[0.8888888888888888,\"#fdca26\"],[1.0,\"#f0f921\"]]}],\"heatmapgl\":[{\"type\":\"heatmapgl\",\"colorbar\":{\"outlinewidth\":0,\"ticks\":\"\"},\"colorscale\":[[0.0,\"#0d0887\"],[0.1111111111111111,\"#46039f\"],[0.2222222222222222,\"#7201a8\"],[0.3333333333333333,\"#9c179e\"],[0.4444444444444444,\"#bd3786\"],[0.5555555555555556,\"#d8576b\"],[0.6666666666666666,\"#ed7953\"],[0.7777777777777778,\"#fb9f3a\"],[0.8888888888888888,\"#fdca26\"],[1.0,\"#f0f921\"]]}],\"contourcarpet\":[{\"type\":\"contourcarpet\",\"colorbar\":{\"outlinewidth\":0,\"ticks\":\"\"}}],\"contour\":[{\"type\":\"contour\",\"colorbar\":{\"outlinewidth\":0,\"ticks\":\"\"},\"colorscale\":[[0.0,\"#0d0887\"],[0.1111111111111111,\"#46039f\"],[0.2222222222222222,\"#7201a8\"],[0.3333333333333333,\"#9c179e\"],[0.4444444444444444,\"#bd3786\"],[0.5555555555555556,\"#d8576b\"],[0.6666666666666666,\"#ed7953\"],[0.7777777777777778,\"#fb9f3a\"],[0.8888888888888888,\"#fdca26\"],[1.0,\"#f0f921\"]]}],\"surface\":[{\"type\":\"surface\",\"colorbar\":{\"outlinewidth\":0,\"ticks\":\"\"},\"colorscale\":[[0.0,\"#0d0887\"],[0.1111111111111111,\"#46039f\"],[0.2222222222222222,\"#7201a8\"],[0.3333333333333333,\"#9c179e\"],[0.4444444444444444,\"#bd3786\"],[0.5555555555555556,\"#d8576b\"],[0.6666666666666666,\"#ed7953\"],[0.7777777777777778,\"#fb9f3a\"],[0.8888888888888888,\"#fdca26\"],[1.0,\"#f0f921\"]]}],\"mesh3d\":[{\"type\":\"mesh3d\",\"colorbar\":{\"outlinewidth\":0,\"ticks\":\"\"}}],\"scatter\":[{\"fillpattern\":{\"fillmode\":\"overlay\",\"size\":10,\"solidity\":0.2},\"type\":\"scatter\"}],\"parcoords\":[{\"type\":\"parcoords\",\"line\":{\"colorbar\":{\"outlinewidth\":0,\"ticks\":\"\"}}}],\"scatterpolargl\":[{\"type\":\"scatterpolargl\",\"marker\":{\"colorbar\":{\"outlinewidth\":0,\"ticks\":\"\"}}}],\"bar\":[{\"error_x\":{\"color\":\"#2a3f5f\"},\"error_y\":{\"color\":\"#2a3f5f\"},\"marker\":{\"line\":{\"color\":\"#E5ECF6\",\"width\":0.5},\"pattern\":{\"fillmode\":\"overlay\",\"size\":10,\"solidity\":0.2}},\"type\":\"bar\"}],\"scattergeo\":[{\"type\":\"scattergeo\",\"marker\":{\"colorbar\":{\"outlinewidth\":0,\"ticks\":\"\"}}}],\"scatterpolar\":[{\"type\":\"scatterpolar\",\"marker\":{\"colorbar\":{\"outlinewidth\":0,\"ticks\":\"\"}}}],\"histogram\":[{\"marker\":{\"pattern\":{\"fillmode\":\"overlay\",\"size\":10,\"solidity\":0.2}},\"type\":\"histogram\"}],\"scattergl\":[{\"type\":\"scattergl\",\"marker\":{\"colorbar\":{\"outlinewidth\":0,\"ticks\":\"\"}}}],\"scatter3d\":[{\"type\":\"scatter3d\",\"line\":{\"colorbar\":{\"outlinewidth\":0,\"ticks\":\"\"}},\"marker\":{\"colorbar\":{\"outlinewidth\":0,\"ticks\":\"\"}}}],\"scattermapbox\":[{\"type\":\"scattermapbox\",\"marker\":{\"colorbar\":{\"outlinewidth\":0,\"ticks\":\"\"}}}],\"scatterternary\":[{\"type\":\"scatterternary\",\"marker\":{\"colorbar\":{\"outlinewidth\":0,\"ticks\":\"\"}}}],\"scattercarpet\":[{\"type\":\"scattercarpet\",\"marker\":{\"colorbar\":{\"outlinewidth\":0,\"ticks\":\"\"}}}],\"carpet\":[{\"aaxis\":{\"endlinecolor\":\"#2a3f5f\",\"gridcolor\":\"white\",\"linecolor\":\"white\",\"minorgridcolor\":\"white\",\"startlinecolor\":\"#2a3f5f\"},\"baxis\":{\"endlinecolor\":\"#2a3f5f\",\"gridcolor\":\"white\",\"linecolor\":\"white\",\"minorgridcolor\":\"white\",\"startlinecolor\":\"#2a3f5f\"},\"type\":\"carpet\"}],\"table\":[{\"cells\":{\"fill\":{\"color\":\"#EBF0F8\"},\"line\":{\"color\":\"white\"}},\"header\":{\"fill\":{\"color\":\"#C8D4E3\"},\"line\":{\"color\":\"white\"}},\"type\":\"table\"}],\"barpolar\":[{\"marker\":{\"line\":{\"color\":\"#E5ECF6\",\"width\":0.5},\"pattern\":{\"fillmode\":\"overlay\",\"size\":10,\"solidity\":0.2}},\"type\":\"barpolar\"}],\"pie\":[{\"automargin\":true,\"type\":\"pie\"}]},\"layout\":{\"autotypenumbers\":\"strict\",\"colorway\":[\"#636efa\",\"#EF553B\",\"#00cc96\",\"#ab63fa\",\"#FFA15A\",\"#19d3f3\",\"#FF6692\",\"#B6E880\",\"#FF97FF\",\"#FECB52\"],\"font\":{\"color\":\"#2a3f5f\"},\"hovermode\":\"closest\",\"hoverlabel\":{\"align\":\"left\"},\"paper_bgcolor\":\"white\",\"plot_bgcolor\":\"#E5ECF6\",\"polar\":{\"bgcolor\":\"#E5ECF6\",\"angularaxis\":{\"gridcolor\":\"white\",\"linecolor\":\"white\",\"ticks\":\"\"},\"radialaxis\":{\"gridcolor\":\"white\",\"linecolor\":\"white\",\"ticks\":\"\"}},\"ternary\":{\"bgcolor\":\"#E5ECF6\",\"aaxis\":{\"gridcolor\":\"white\",\"linecolor\":\"white\",\"ticks\":\"\"},\"baxis\":{\"gridcolor\":\"white\",\"linecolor\":\"white\",\"ticks\":\"\"},\"caxis\":{\"gridcolor\":\"white\",\"linecolor\":\"white\",\"ticks\":\"\"}},\"coloraxis\":{\"colorbar\":{\"outlinewidth\":0,\"ticks\":\"\"}},\"colorscale\":{\"sequential\":[[0.0,\"#0d0887\"],[0.1111111111111111,\"#46039f\"],[0.2222222222222222,\"#7201a8\"],[0.3333333333333333,\"#9c179e\"],[0.4444444444444444,\"#bd3786\"],[0.5555555555555556,\"#d8576b\"],[0.6666666666666666,\"#ed7953\"],[0.7777777777777778,\"#fb9f3a\"],[0.8888888888888888,\"#fdca26\"],[1.0,\"#f0f921\"]],\"sequentialminus\":[[0.0,\"#0d0887\"],[0.1111111111111111,\"#46039f\"],[0.2222222222222222,\"#7201a8\"],[0.3333333333333333,\"#9c179e\"],[0.4444444444444444,\"#bd3786\"],[0.5555555555555556,\"#d8576b\"],[0.6666666666666666,\"#ed7953\"],[0.7777777777777778,\"#fb9f3a\"],[0.8888888888888888,\"#fdca26\"],[1.0,\"#f0f921\"]],\"diverging\":[[0,\"#8e0152\"],[0.1,\"#c51b7d\"],[0.2,\"#de77ae\"],[0.3,\"#f1b6da\"],[0.4,\"#fde0ef\"],[0.5,\"#f7f7f7\"],[0.6,\"#e6f5d0\"],[0.7,\"#b8e186\"],[0.8,\"#7fbc41\"],[0.9,\"#4d9221\"],[1,\"#276419\"]]},\"xaxis\":{\"gridcolor\":\"white\",\"linecolor\":\"white\",\"ticks\":\"\",\"title\":{\"standoff\":15},\"zerolinecolor\":\"white\",\"automargin\":true,\"zerolinewidth\":2},\"yaxis\":{\"gridcolor\":\"white\",\"linecolor\":\"white\",\"ticks\":\"\",\"title\":{\"standoff\":15},\"zerolinecolor\":\"white\",\"automargin\":true,\"zerolinewidth\":2},\"scene\":{\"xaxis\":{\"backgroundcolor\":\"#E5ECF6\",\"gridcolor\":\"white\",\"linecolor\":\"white\",\"showbackground\":true,\"ticks\":\"\",\"zerolinecolor\":\"white\",\"gridwidth\":2},\"yaxis\":{\"backgroundcolor\":\"#E5ECF6\",\"gridcolor\":\"white\",\"linecolor\":\"white\",\"showbackground\":true,\"ticks\":\"\",\"zerolinecolor\":\"white\",\"gridwidth\":2},\"zaxis\":{\"backgroundcolor\":\"#E5ECF6\",\"gridcolor\":\"white\",\"linecolor\":\"white\",\"showbackground\":true,\"ticks\":\"\",\"zerolinecolor\":\"white\",\"gridwidth\":2}},\"shapedefaults\":{\"line\":{\"color\":\"#2a3f5f\"}},\"annotationdefaults\":{\"arrowcolor\":\"#2a3f5f\",\"arrowhead\":0,\"arrowwidth\":1},\"geo\":{\"bgcolor\":\"white\",\"landcolor\":\"#E5ECF6\",\"subunitcolor\":\"white\",\"showland\":true,\"showlakes\":true,\"lakecolor\":\"white\"},\"title\":{\"x\":0.05},\"mapbox\":{\"style\":\"light\"}}},\"xaxis\":{\"anchor\":\"y\",\"domain\":[0.0,1.0],\"title\":{},\"showgrid\":false,\"nticks\":10,\"ticks\":\"outside\",\"tickcolor\":\"#003f5c\",\"ticklen\":3,\"side\":\"top\"},\"yaxis\":{\"anchor\":\"x\",\"domain\":[0.0,1.0],\"title\":{},\"ticks\":\"outside\",\"tickcolor\":\"white\",\"ticklen\":10},\"legend\":{\"tracegroupgap\":0},\"title\":{\"text\":\"Popular events\"},\"barmode\":\"relative\",\"height\":1000,\"font\":{\"family\":\"Open Sans\"},\"hoverlabel\":{\"font\":{\"size\":10},\"bgcolor\":\"white\"},\"showlegend\":false,\"shapes\":[{\"fillcolor\":\"white\",\"layer\":\"above\",\"line\":{\"width\":0},\"opacity\":0.35,\"type\":\"rect\",\"x0\":0,\"x1\":0.1,\"xref\":\"x\",\"y0\":0,\"y1\":1,\"yref\":\"y domain\"}]},                        {\"responsive\": true}                    ).then(function(){\n",
              "                            \n",
              "var gd = document.getElementById('83855c4f-a4c4-49d9-85a6-153f94cb6b6a');\n",
              "var x = new MutationObserver(function (mutations, observer) {{\n",
              "        var display = window.getComputedStyle(gd).display;\n",
              "        if (!display || display === 'none') {{\n",
              "            console.log([gd, 'removed!']);\n",
              "            Plotly.purge(gd);\n",
              "            observer.disconnect();\n",
              "        }}\n",
              "}});\n",
              "\n",
              "// Listen for the removal of the full notebook cells\n",
              "var notebookContainer = gd.closest('#notebook-container');\n",
              "if (notebookContainer) {{\n",
              "    x.observe(notebookContainer, {childList: true});\n",
              "}}\n",
              "\n",
              "// Listen for the clearing of the current output cell\n",
              "var outputEl = gd.closest('.output');\n",
              "if (outputEl) {{\n",
              "    x.observe(outputEl, {childList: true});\n",
              "}}\n",
              "\n",
              "                        })                };                            </script>        </div>\n",
              "</body>\n",
              "</html>"
            ]
          },
          "metadata": {}
        }
      ]
    },
    {
      "cell_type": "markdown",
      "source": [
        "There are 10 types of events on the liveBook platform that averaged at least 0.1 events per account per month. \n",
        "\n",
        "In descending order from most frequent to least frequent, they are:\n",
        "\n",
        "1. `ReadingOwnedBook`\n",
        "2. `FirstLivebookAccess`\n",
        "3. `FirstManningAccess`\n",
        "4. `EBookDownloaded`\n",
        "5. `ReadingFreePreview`\n",
        "6. `FreeContentCheckout`\n",
        "7. `HighlightCreated`\n",
        "8. `ReadingOpenChapter`\n",
        "9. `ProductTocLivebookLinkOpened`\n",
        "10. `LivebookLogin`\n",
        "\n",
        "Note that events related to reading are amongst the most popular on the liveBook platform, which makes sense. Reading-related events include: `ReadingOwnedBook`, `ReadingFreePreview`, `EBookDownloaded`, `ReadingOpenChapter`.\n",
        "\n",
        "The least popular event types are "
      ],
      "metadata": {
        "id": "E6avzZ5-l6P6"
      }
    },
    {
      "cell_type": "code",
      "source": [
        "popular_events = account_metrics['event_type'].loc[account_metrics['events_per_account_per_month'] > 0.1].tolist()\n",
        "len(popular_events)\n",
        "popular_events"
      ],
      "metadata": {
        "colab": {
          "base_uri": "https://localhost:8080/"
        },
        "id": "USPGyR8_ooHt",
        "outputId": "ff6a1630-fd68-4a79-81bf-3a717be36f84"
      },
      "execution_count": 9,
      "outputs": [
        {
          "output_type": "execute_result",
          "data": {
            "text/plain": [
              "['LivebookLogin',\n",
              " 'ProductTocLivebookLinkOpened',\n",
              " 'ReadingOpenChapter',\n",
              " 'HighlightCreated',\n",
              " 'FreeContentCheckout',\n",
              " 'ReadingFreePreview',\n",
              " 'EBookDownloaded',\n",
              " 'FirstManningAccess',\n",
              " 'FirstLivebookAccess',\n",
              " 'ReadingOwnedBook']"
            ]
          },
          "metadata": {},
          "execution_count": 9
        }
      ]
    },
    {
      "cell_type": "markdown",
      "source": [
        "\n",
        "### `events_per_day`\n",
        "\n",
        "---\n",
        "\n",
        "- Do events happen equally every day, or are there patterns?\n",
        "- Are there any gaps in the record of any events?\n",
        "- Are there any events that only occur in part of the history?\n",
        "- Are there any extreme outliers or anomalies in the number of events?\n",
        "\n",
        "\n"
      ],
      "metadata": {
        "id": "2JdcPovuI2Xx"
      }
    },
    {
      "cell_type": "code",
      "source": [
        "import itertools\n",
        "from plotly.subplots import make_subplots\n",
        "import plotly.graph_objects as go\n",
        "\n",
        "r = [i for i in range(1,6)]\n",
        "c = [i for i in range(1,3)]\n",
        "pos = list(itertools.product(r, c))\n",
        "\n",
        "fig = make_subplots(rows=r[-1], cols=c[-1], subplot_titles=popular_events)\n",
        "\n",
        "for event, p in zip(popular_events, pos):\n",
        "  filepath = f\"/content/drive/MyDrive/Churn prediction/events_per_day_{event}.csv\"\n",
        "  event_df = pd.read_csv(filepath, index_col='measurement_date')\n",
        "  fig.append_trace(\n",
        "      go.Scatter(x=event_df.index, y=event_df['event_count'],  line=dict(width=0.5), marker_color='darkslategray'),\n",
        "      row=p[0], col=p[1])\n",
        "fig.update_xaxes(showgrid=False)\n",
        "fig.update_yaxes(showgrid=False)\n",
        "fig.update_layout(height=1000, width=1000, title_text=\"Anomaly detection\", showlegend=False)\n",
        "fig.show()"
      ],
      "metadata": {
        "colab": {
          "base_uri": "https://localhost:8080/",
          "height": 1000
        },
        "id": "r4zK6sxxJDSP",
        "outputId": "456d3cc4-1c82-416f-ed4e-cdbba10fcff7"
      },
      "execution_count": 10,
      "outputs": [
        {
          "output_type": "display_data",
          "data": {
            "text/html": [
              "<html>\n",
              "<head><meta charset=\"utf-8\" /></head>\n",
              "<body>\n",
              "    <div>            <script src=\"https://cdnjs.cloudflare.com/ajax/libs/mathjax/2.7.5/MathJax.js?config=TeX-AMS-MML_SVG\"></script><script type=\"text/javascript\">if (window.MathJax && window.MathJax.Hub && window.MathJax.Hub.Config) {window.MathJax.Hub.Config({SVG: {font: \"STIX-Web\"}});}</script>                <script type=\"text/javascript\">window.PlotlyConfig = {MathJaxConfig: 'local'};</script>\n",
              "        <script src=\"https://cdn.plot.ly/plotly-2.18.2.min.js\"></script>                <div id=\"e6beb87f-6d8a-4bd4-a54a-7d59cc0b4894\" class=\"plotly-graph-div\" style=\"height:1000px; width:1000px;\"></div>            <script type=\"text/javascript\">                                    window.PLOTLYENV=window.PLOTLYENV || {};                                    if (document.getElementById(\"e6beb87f-6d8a-4bd4-a54a-7d59cc0b4894\")) {                    Plotly.newPlot(                        \"e6beb87f-6d8a-4bd4-a54a-7d59cc0b4894\",                        [{\"line\":{\"width\":0.5},\"marker\":{\"color\":\"darkslategray\"},\"x\":[\"2019-12-01\",\"2019-12-02\",\"2019-12-03\",\"2019-12-04\",\"2019-12-05\",\"2019-12-06\",\"2019-12-07\",\"2019-12-08\",\"2019-12-09\",\"2019-12-10\",\"2019-12-11\",\"2019-12-12\",\"2019-12-13\",\"2019-12-14\",\"2019-12-15\",\"2019-12-16\",\"2019-12-17\",\"2019-12-18\",\"2019-12-19\",\"2019-12-20\",\"2019-12-21\",\"2019-12-22\",\"2019-12-23\",\"2019-12-24\",\"2019-12-25\",\"2019-12-26\",\"2019-12-27\",\"2019-12-28\",\"2019-12-29\",\"2019-12-30\",\"2019-12-31\",\"2020-01-01\",\"2020-01-02\",\"2020-01-03\",\"2020-01-04\",\"2020-01-05\",\"2020-01-06\",\"2020-01-07\",\"2020-01-08\",\"2020-01-09\",\"2020-01-10\",\"2020-01-11\",\"2020-01-12\",\"2020-01-13\",\"2020-01-14\",\"2020-01-15\",\"2020-01-16\",\"2020-01-17\",\"2020-01-18\",\"2020-01-19\",\"2020-01-20\",\"2020-01-21\",\"2020-01-22\",\"2020-01-23\",\"2020-01-24\",\"2020-01-25\",\"2020-01-26\",\"2020-01-27\",\"2020-01-28\",\"2020-01-29\",\"2020-01-30\",\"2020-01-31\",\"2020-02-01\",\"2020-02-02\",\"2020-02-03\",\"2020-02-04\",\"2020-02-05\",\"2020-02-06\",\"2020-02-07\",\"2020-02-08\",\"2020-02-09\",\"2020-02-10\",\"2020-02-11\",\"2020-02-12\",\"2020-02-13\",\"2020-02-14\",\"2020-02-15\",\"2020-02-16\",\"2020-02-17\",\"2020-02-18\",\"2020-02-19\",\"2020-02-20\",\"2020-02-21\",\"2020-02-22\",\"2020-02-23\",\"2020-02-24\",\"2020-02-25\",\"2020-02-26\",\"2020-02-27\",\"2020-02-28\",\"2020-02-29\",\"2020-03-01\",\"2020-03-02\",\"2020-03-03\",\"2020-03-04\",\"2020-03-05\",\"2020-03-06\",\"2020-03-07\",\"2020-03-08\",\"2020-03-09\",\"2020-03-10\",\"2020-03-11\",\"2020-03-12\",\"2020-03-13\",\"2020-03-14\",\"2020-03-15\",\"2020-03-16\",\"2020-03-17\",\"2020-03-18\",\"2020-03-19\",\"2020-03-20\",\"2020-03-21\",\"2020-03-22\",\"2020-03-23\",\"2020-03-24\",\"2020-03-25\",\"2020-03-26\",\"2020-03-27\",\"2020-03-28\",\"2020-03-29\",\"2020-03-30\",\"2020-03-31\",\"2020-04-01\",\"2020-04-02\",\"2020-04-03\",\"2020-04-04\",\"2020-04-05\",\"2020-04-06\",\"2020-04-07\",\"2020-04-08\",\"2020-04-09\",\"2020-04-10\",\"2020-04-11\",\"2020-04-12\",\"2020-04-13\",\"2020-04-14\",\"2020-04-15\",\"2020-04-16\",\"2020-04-17\",\"2020-04-18\",\"2020-04-19\",\"2020-04-20\",\"2020-04-21\",\"2020-04-22\",\"2020-04-23\",\"2020-04-24\",\"2020-04-25\",\"2020-04-26\",\"2020-04-27\",\"2020-04-28\",\"2020-04-29\",\"2020-04-30\",\"2020-05-01\",\"2020-05-02\",\"2020-05-03\",\"2020-05-04\",\"2020-05-05\",\"2020-05-06\",\"2020-05-07\",\"2020-05-08\",\"2020-05-09\",\"2020-05-10\",\"2020-05-11\",\"2020-05-12\",\"2020-05-13\",\"2020-05-14\",\"2020-05-15\",\"2020-05-16\",\"2020-05-17\",\"2020-05-18\",\"2020-05-19\",\"2020-05-20\",\"2020-05-21\",\"2020-05-22\",\"2020-05-23\",\"2020-05-24\",\"2020-05-25\",\"2020-05-26\",\"2020-05-27\",\"2020-05-28\",\"2020-05-29\",\"2020-05-30\",\"2020-05-31\",\"2020-06-01\"],\"y\":[1,1,1,190,352,304,265,266,430,367,364,389,310,254,270,461,395,414,364,273,257,310,403,390,362,349,351,241,266,371,394,322,412,410,239,277,380,405,372,347,317,225,231,358,322,292,338,361,220,209,357,338,315,325,272,203,211,345,330,380,342,364,260,255,373,327,372,379,353,232,279,357,382,336,345,349,272,288,475,417,401,354,342,318,273,467,507,320,329,351,237,253,367,334,288,214,213,184,219,282,267,233,272,249,218,244,280,310,337,332,345,284,253,370,351,344,315,330,295,290,380,358,294,314,318,336,367,486,402,363,373,446,377,417,419,366,393,483,433,338,416,429,430,384,407,476,363,406,417,501,458,425,323,384,314,403,426,412,399,369,312,310,400,403,401,411,351,317,346,357,337,329,315,325,295,302,504,444,363,347,363,280,384,374],\"type\":\"scatter\",\"xaxis\":\"x\",\"yaxis\":\"y\"},{\"line\":{\"width\":0.5},\"marker\":{\"color\":\"darkslategray\"},\"x\":[\"2019-12-01\",\"2019-12-02\",\"2019-12-03\",\"2019-12-04\",\"2019-12-05\",\"2019-12-06\",\"2019-12-07\",\"2019-12-08\",\"2019-12-09\",\"2019-12-10\",\"2019-12-11\",\"2019-12-12\",\"2019-12-13\",\"2019-12-14\",\"2019-12-15\",\"2019-12-16\",\"2019-12-17\",\"2019-12-18\",\"2019-12-19\",\"2019-12-20\",\"2019-12-21\",\"2019-12-22\",\"2019-12-23\",\"2019-12-24\",\"2019-12-25\",\"2019-12-26\",\"2019-12-27\",\"2019-12-28\",\"2019-12-29\",\"2019-12-30\",\"2019-12-31\",\"2020-01-01\",\"2020-01-02\",\"2020-01-03\",\"2020-01-04\",\"2020-01-05\",\"2020-01-06\",\"2020-01-07\",\"2020-01-08\",\"2020-01-09\",\"2020-01-10\",\"2020-01-11\",\"2020-01-12\",\"2020-01-13\",\"2020-01-14\",\"2020-01-15\",\"2020-01-16\",\"2020-01-17\",\"2020-01-18\",\"2020-01-19\",\"2020-01-20\",\"2020-01-21\",\"2020-01-22\",\"2020-01-23\",\"2020-01-24\",\"2020-01-25\",\"2020-01-26\",\"2020-01-27\",\"2020-01-28\",\"2020-01-29\",\"2020-01-30\",\"2020-01-31\",\"2020-02-01\",\"2020-02-02\",\"2020-02-03\",\"2020-02-04\",\"2020-02-05\",\"2020-02-06\",\"2020-02-07\",\"2020-02-08\",\"2020-02-09\",\"2020-02-10\",\"2020-02-11\",\"2020-02-12\",\"2020-02-13\",\"2020-02-14\",\"2020-02-15\",\"2020-02-16\",\"2020-02-17\",\"2020-02-18\",\"2020-02-19\",\"2020-02-20\",\"2020-02-21\",\"2020-02-22\",\"2020-02-23\",\"2020-02-24\",\"2020-02-25\",\"2020-02-26\",\"2020-02-27\",\"2020-02-28\",\"2020-02-29\",\"2020-03-01\",\"2020-03-02\",\"2020-03-03\",\"2020-03-04\",\"2020-03-05\",\"2020-03-06\",\"2020-03-07\",\"2020-03-08\",\"2020-03-09\",\"2020-03-10\",\"2020-03-11\",\"2020-03-12\",\"2020-03-13\",\"2020-03-14\",\"2020-03-15\",\"2020-03-16\",\"2020-03-17\",\"2020-03-18\",\"2020-03-19\",\"2020-03-20\",\"2020-03-21\",\"2020-03-22\",\"2020-03-23\",\"2020-03-24\",\"2020-03-25\",\"2020-03-26\",\"2020-03-27\",\"2020-03-28\",\"2020-03-29\",\"2020-03-30\",\"2020-03-31\",\"2020-04-01\",\"2020-04-02\",\"2020-04-03\",\"2020-04-04\",\"2020-04-05\",\"2020-04-06\",\"2020-04-07\",\"2020-04-08\",\"2020-04-09\",\"2020-04-10\",\"2020-04-11\",\"2020-04-12\",\"2020-04-13\",\"2020-04-14\",\"2020-04-15\",\"2020-04-16\",\"2020-04-17\",\"2020-04-18\",\"2020-04-19\",\"2020-04-20\",\"2020-04-21\",\"2020-04-22\",\"2020-04-23\",\"2020-04-24\",\"2020-04-25\",\"2020-04-26\",\"2020-04-27\",\"2020-04-28\",\"2020-04-29\",\"2020-04-30\",\"2020-05-01\",\"2020-05-02\",\"2020-05-03\",\"2020-05-04\",\"2020-05-05\",\"2020-05-06\",\"2020-05-07\",\"2020-05-08\",\"2020-05-09\",\"2020-05-10\",\"2020-05-11\",\"2020-05-12\",\"2020-05-13\",\"2020-05-14\",\"2020-05-15\",\"2020-05-16\",\"2020-05-17\",\"2020-05-18\",\"2020-05-19\",\"2020-05-20\",\"2020-05-21\",\"2020-05-22\",\"2020-05-23\",\"2020-05-24\",\"2020-05-25\",\"2020-05-26\",\"2020-05-27\",\"2020-05-28\",\"2020-05-29\",\"2020-05-30\",\"2020-05-31\",\"2020-06-01\"],\"y\":[387,687,411,483,447,309,577,573,1467,1137,689,859,565,763,651,1158,1006,897,1032,583,873,353,914,1160,1176,695,307,275,294,940,901,1300,365,284,201,407,282,524,228,951,641,732,459,711,271,1100,616,750,642,443,246,384,634,834,716,203,574,337,432,490,232,340,302,242,410,365,318,320,320,207,281,276,285,262,289,301,261,260,355,337,277,379,326,245,296,324,272,317,265,449,609,417,356,286,281,276,261,233,220,270,286,268,522,299,228,209,263,454,361,469,564,346,170,341,323,288,340,285,240,300,415,337,239,301,615,347,376,458,357,463,347,506,468,416,492,349,359,410,385,364,400,417,349,382,663,950,1113,477,467,597,538,689,455,567,475,397,344,396,469,839,363,387,434,426,398,362,422,430,444,395,324,363,341,351,303,334,806,793,471,336,451,574,563,413],\"type\":\"scatter\",\"xaxis\":\"x2\",\"yaxis\":\"y2\"},{\"line\":{\"width\":0.5},\"marker\":{\"color\":\"darkslategray\"},\"x\":[\"2019-12-01\",\"2019-12-02\",\"2019-12-03\",\"2019-12-04\",\"2019-12-05\",\"2019-12-06\",\"2019-12-07\",\"2019-12-08\",\"2019-12-09\",\"2019-12-10\",\"2019-12-11\",\"2019-12-12\",\"2019-12-13\",\"2019-12-14\",\"2019-12-15\",\"2019-12-16\",\"2019-12-17\",\"2019-12-18\",\"2019-12-19\",\"2019-12-20\",\"2019-12-21\",\"2019-12-22\",\"2019-12-23\",\"2019-12-24\",\"2019-12-25\",\"2019-12-26\",\"2019-12-27\",\"2019-12-28\",\"2019-12-29\",\"2019-12-30\",\"2019-12-31\",\"2020-01-01\",\"2020-01-02\",\"2020-01-03\",\"2020-01-04\",\"2020-01-05\",\"2020-01-06\",\"2020-01-07\",\"2020-01-08\",\"2020-01-09\",\"2020-01-10\",\"2020-01-11\",\"2020-01-12\",\"2020-01-13\",\"2020-01-14\",\"2020-01-15\",\"2020-01-16\",\"2020-01-17\",\"2020-01-18\",\"2020-01-19\",\"2020-01-20\",\"2020-01-21\",\"2020-01-22\",\"2020-01-23\",\"2020-01-24\",\"2020-01-25\",\"2020-01-26\",\"2020-01-27\",\"2020-01-28\",\"2020-01-29\",\"2020-01-30\",\"2020-01-31\",\"2020-02-01\",\"2020-02-02\",\"2020-02-03\",\"2020-02-04\",\"2020-02-05\",\"2020-02-06\",\"2020-02-07\",\"2020-02-08\",\"2020-02-09\",\"2020-02-10\",\"2020-02-11\",\"2020-02-12\",\"2020-02-13\",\"2020-02-14\",\"2020-02-15\",\"2020-02-16\",\"2020-02-17\",\"2020-02-18\",\"2020-02-19\",\"2020-02-20\",\"2020-02-21\",\"2020-02-22\",\"2020-02-23\",\"2020-02-24\",\"2020-02-25\",\"2020-02-26\",\"2020-02-27\",\"2020-02-28\",\"2020-02-29\",\"2020-03-01\",\"2020-03-02\",\"2020-03-03\",\"2020-03-04\",\"2020-03-05\",\"2020-03-06\",\"2020-03-07\",\"2020-03-08\",\"2020-03-09\",\"2020-03-10\",\"2020-03-11\",\"2020-03-12\",\"2020-03-13\",\"2020-03-14\",\"2020-03-15\",\"2020-03-16\",\"2020-03-17\",\"2020-03-18\",\"2020-03-19\",\"2020-03-20\",\"2020-03-21\",\"2020-03-22\",\"2020-03-23\",\"2020-03-24\",\"2020-03-25\",\"2020-03-26\",\"2020-03-27\",\"2020-03-28\",\"2020-03-29\",\"2020-03-30\",\"2020-03-31\",\"2020-04-01\",\"2020-04-02\",\"2020-04-03\",\"2020-04-04\",\"2020-04-05\",\"2020-04-06\",\"2020-04-07\",\"2020-04-08\",\"2020-04-09\",\"2020-04-10\",\"2020-04-11\",\"2020-04-12\",\"2020-04-13\",\"2020-04-14\",\"2020-04-15\",\"2020-04-16\",\"2020-04-17\",\"2020-04-18\",\"2020-04-19\",\"2020-04-20\",\"2020-04-21\",\"2020-04-22\",\"2020-04-23\",\"2020-04-24\",\"2020-04-25\",\"2020-04-26\",\"2020-04-27\",\"2020-04-28\",\"2020-04-29\",\"2020-04-30\",\"2020-05-01\",\"2020-05-02\",\"2020-05-03\",\"2020-05-04\",\"2020-05-05\",\"2020-05-06\",\"2020-05-07\",\"2020-05-08\",\"2020-05-09\",\"2020-05-10\",\"2020-05-11\",\"2020-05-12\",\"2020-05-13\",\"2020-05-14\",\"2020-05-15\",\"2020-05-16\",\"2020-05-17\",\"2020-05-18\",\"2020-05-19\",\"2020-05-20\",\"2020-05-21\",\"2020-05-22\",\"2020-05-23\",\"2020-05-24\",\"2020-05-25\",\"2020-05-26\",\"2020-05-27\",\"2020-05-28\",\"2020-05-29\",\"2020-05-30\",\"2020-05-31\",\"2020-06-01\"],\"y\":[503,690,610,597,619,510,369,352,819,560,526,651,440,305,349,783,671,528,537,578,448,453,544,664,730,599,434,331,359,647,842,622,540,400,328,312,441,434,345,430,361,284,288,507,427,375,493,484,290,311,514,490,417,415,448,277,348,498,403,398,429,423,318,307,511,414,504,560,633,332,494,542,610,614,518,463,408,536,578,586,569,609,623,531,485,600,557,548,442,571,531,486,445,577,415,448,397,385,340,499,487,365,447,414,421,386,412,629,455,628,661,402,436,451,535,497,492,469,356,368,483,497,576,519,515,462,493,600,524,516,567,731,615,551,783,642,562,603,585,554,531,543,631,567,859,974,850,768,592,725,726,801,710,652,673,670,688,698,636,579,550,525,652,672,655,591,731,586,601,630,541,669,575,624,459,533,804,696,525,576,589,708,759,618],\"type\":\"scatter\",\"xaxis\":\"x3\",\"yaxis\":\"y3\"},{\"line\":{\"width\":0.5},\"marker\":{\"color\":\"darkslategray\"},\"x\":[\"2019-12-01\",\"2019-12-02\",\"2019-12-03\",\"2019-12-04\",\"2019-12-05\",\"2019-12-06\",\"2019-12-07\",\"2019-12-08\",\"2019-12-09\",\"2019-12-10\",\"2019-12-11\",\"2019-12-12\",\"2019-12-13\",\"2019-12-14\",\"2019-12-15\",\"2019-12-16\",\"2019-12-17\",\"2019-12-18\",\"2019-12-19\",\"2019-12-20\",\"2019-12-21\",\"2019-12-22\",\"2019-12-23\",\"2019-12-24\",\"2019-12-25\",\"2019-12-26\",\"2019-12-27\",\"2019-12-28\",\"2019-12-29\",\"2019-12-30\",\"2019-12-31\",\"2020-01-01\",\"2020-01-02\",\"2020-01-03\",\"2020-01-04\",\"2020-01-05\",\"2020-01-06\",\"2020-01-07\",\"2020-01-08\",\"2020-01-09\",\"2020-01-10\",\"2020-01-11\",\"2020-01-12\",\"2020-01-13\",\"2020-01-14\",\"2020-01-15\",\"2020-01-16\",\"2020-01-17\",\"2020-01-18\",\"2020-01-19\",\"2020-01-20\",\"2020-01-21\",\"2020-01-22\",\"2020-01-23\",\"2020-01-24\",\"2020-01-25\",\"2020-01-26\",\"2020-01-27\",\"2020-01-28\",\"2020-01-29\",\"2020-01-30\",\"2020-01-31\",\"2020-02-01\",\"2020-02-02\",\"2020-02-03\",\"2020-02-04\",\"2020-02-05\",\"2020-02-06\",\"2020-02-07\",\"2020-02-08\",\"2020-02-09\",\"2020-02-10\",\"2020-02-11\",\"2020-02-12\",\"2020-02-13\",\"2020-02-14\",\"2020-02-15\",\"2020-02-16\",\"2020-02-17\",\"2020-02-18\",\"2020-02-19\",\"2020-02-20\",\"2020-02-21\",\"2020-02-22\",\"2020-02-23\",\"2020-02-24\",\"2020-02-25\",\"2020-02-26\",\"2020-02-27\",\"2020-02-28\",\"2020-02-29\",\"2020-03-01\",\"2020-03-02\",\"2020-03-03\",\"2020-03-04\",\"2020-03-05\",\"2020-03-06\",\"2020-03-07\",\"2020-03-08\",\"2020-03-09\",\"2020-03-10\",\"2020-03-11\",\"2020-03-12\",\"2020-03-13\",\"2020-03-14\",\"2020-03-15\",\"2020-03-16\",\"2020-03-17\",\"2020-03-18\",\"2020-03-19\",\"2020-03-20\",\"2020-03-21\",\"2020-03-22\",\"2020-03-23\",\"2020-03-24\",\"2020-03-25\",\"2020-03-26\",\"2020-03-27\",\"2020-03-28\",\"2020-03-29\",\"2020-03-30\",\"2020-03-31\",\"2020-04-01\",\"2020-04-02\",\"2020-04-03\",\"2020-04-04\",\"2020-04-05\",\"2020-04-06\",\"2020-04-07\",\"2020-04-08\",\"2020-04-09\",\"2020-04-10\",\"2020-04-11\",\"2020-04-12\",\"2020-04-13\",\"2020-04-14\",\"2020-04-15\",\"2020-04-16\",\"2020-04-17\",\"2020-04-18\",\"2020-04-19\",\"2020-04-20\",\"2020-04-21\",\"2020-04-22\",\"2020-04-23\",\"2020-04-24\",\"2020-04-25\",\"2020-04-26\",\"2020-04-27\",\"2020-04-28\",\"2020-04-29\",\"2020-04-30\",\"2020-05-01\",\"2020-05-02\",\"2020-05-03\",\"2020-05-04\",\"2020-05-05\",\"2020-05-06\",\"2020-05-07\",\"2020-05-08\",\"2020-05-09\",\"2020-05-10\",\"2020-05-11\",\"2020-05-12\",\"2020-05-13\",\"2020-05-14\",\"2020-05-15\",\"2020-05-16\",\"2020-05-17\",\"2020-05-18\",\"2020-05-19\",\"2020-05-20\",\"2020-05-21\",\"2020-05-22\",\"2020-05-23\",\"2020-05-24\",\"2020-05-25\",\"2020-05-26\",\"2020-05-27\",\"2020-05-28\",\"2020-05-29\",\"2020-05-30\",\"2020-05-31\",\"2020-06-01\"],\"y\":[577,886,951,659,923,794,677,771,1056,888,1104,1008,932,991,761,910,924,944,845,543,636,596,564,460,458,554,744,561,551,556,425,334,464,958,780,757,758,683,1222,573,267,359,434,937,450,697,890,564,162,341,853,591,499,374,441,299,315,505,429,448,445,350,379,444,652,894,623,604,664,269,400,900,594,460,672,465,248,496,663,948,611,698,436,552,840,540,665,479,401,444,586,672,613,546,874,582,618,470,500,778,466,459,424,294,160,309,275,318,367,451,390,396,629,518,488,580,630,428,816,830,703,460,651,415,406,811,955,464,393,664,630,839,866,714,890,746,856,557,616,995,711,738,728,841,981,694,869,1175,977,1127,669,699,471,924,893,853,1075,828,688,938,812,968,568,626,795,375,313,740,833,826,478,607,487,479,916,765,835,882,678,916,709,747,1018,963],\"type\":\"scatter\",\"xaxis\":\"x4\",\"yaxis\":\"y4\"},{\"line\":{\"width\":0.5},\"marker\":{\"color\":\"darkslategray\"},\"x\":[\"2019-12-01\",\"2019-12-02\",\"2019-12-03\",\"2019-12-04\",\"2019-12-05\",\"2019-12-06\",\"2019-12-07\",\"2019-12-08\",\"2019-12-09\",\"2019-12-10\",\"2019-12-11\",\"2019-12-12\",\"2019-12-13\",\"2019-12-14\",\"2019-12-15\",\"2019-12-16\",\"2019-12-17\",\"2019-12-18\",\"2019-12-19\",\"2019-12-20\",\"2019-12-21\",\"2019-12-22\",\"2019-12-23\",\"2019-12-24\",\"2019-12-25\",\"2019-12-26\",\"2019-12-27\",\"2019-12-28\",\"2019-12-29\",\"2019-12-30\",\"2019-12-31\",\"2020-01-01\",\"2020-01-02\",\"2020-01-03\",\"2020-01-04\",\"2020-01-05\",\"2020-01-06\",\"2020-01-07\",\"2020-01-08\",\"2020-01-09\",\"2020-01-10\",\"2020-01-11\",\"2020-01-12\",\"2020-01-13\",\"2020-01-14\",\"2020-01-15\",\"2020-01-16\",\"2020-01-17\",\"2020-01-18\",\"2020-01-19\",\"2020-01-20\",\"2020-01-21\",\"2020-01-22\",\"2020-01-23\",\"2020-01-24\",\"2020-01-25\",\"2020-01-26\",\"2020-01-27\",\"2020-01-28\",\"2020-01-29\",\"2020-01-30\",\"2020-01-31\",\"2020-02-01\",\"2020-02-02\",\"2020-02-03\",\"2020-02-04\",\"2020-02-05\",\"2020-02-06\",\"2020-02-07\",\"2020-02-08\",\"2020-02-09\",\"2020-02-10\",\"2020-02-11\",\"2020-02-12\",\"2020-02-13\",\"2020-02-14\",\"2020-02-15\",\"2020-02-16\",\"2020-02-17\",\"2020-02-18\",\"2020-02-19\",\"2020-02-20\",\"2020-02-21\",\"2020-02-22\",\"2020-02-23\",\"2020-02-24\",\"2020-02-25\",\"2020-02-26\",\"2020-02-27\",\"2020-02-28\",\"2020-02-29\",\"2020-03-01\",\"2020-03-02\",\"2020-03-03\",\"2020-03-04\",\"2020-03-05\",\"2020-03-06\",\"2020-03-07\",\"2020-03-08\",\"2020-03-09\",\"2020-03-10\",\"2020-03-11\",\"2020-03-12\",\"2020-03-13\",\"2020-03-14\",\"2020-03-15\",\"2020-03-16\",\"2020-03-17\",\"2020-03-18\",\"2020-03-19\",\"2020-03-20\",\"2020-03-21\",\"2020-03-22\",\"2020-03-23\",\"2020-03-24\",\"2020-03-25\",\"2020-03-26\",\"2020-03-27\",\"2020-03-28\",\"2020-03-29\",\"2020-03-30\",\"2020-03-31\",\"2020-04-01\",\"2020-04-02\",\"2020-04-03\",\"2020-04-04\",\"2020-04-05\",\"2020-04-06\",\"2020-04-07\",\"2020-04-08\",\"2020-04-09\",\"2020-04-10\",\"2020-04-11\",\"2020-04-12\",\"2020-04-13\",\"2020-04-14\",\"2020-04-15\",\"2020-04-16\",\"2020-04-17\",\"2020-04-18\",\"2020-04-19\",\"2020-04-20\",\"2020-04-21\",\"2020-04-22\",\"2020-04-23\",\"2020-04-24\",\"2020-04-25\",\"2020-04-26\",\"2020-04-27\",\"2020-04-28\",\"2020-04-29\",\"2020-04-30\",\"2020-05-01\",\"2020-05-02\",\"2020-05-03\",\"2020-05-04\",\"2020-05-05\",\"2020-05-06\",\"2020-05-07\",\"2020-05-08\",\"2020-05-09\",\"2020-05-10\",\"2020-05-11\",\"2020-05-12\",\"2020-05-13\",\"2020-05-14\",\"2020-05-15\",\"2020-05-16\",\"2020-05-17\",\"2020-05-18\",\"2020-05-19\",\"2020-05-20\",\"2020-05-21\",\"2020-05-22\",\"2020-05-23\",\"2020-05-24\",\"2020-05-25\",\"2020-05-26\",\"2020-05-27\",\"2020-05-28\",\"2020-05-29\",\"2020-05-30\",\"2020-05-31\",\"2020-06-01\"],\"y\":[1,1,1,1,176,177,121,155,552,281,179,160,164,111,133,635,331,172,157,185,218,210,285,464,517,210,219,140,146,320,541,562,378,337,126,134,342,329,366,429,405,136,138,232,266,322,314,293,265,256,269,654,338,294,246,355,276,243,247,327,307,176,130,131,248,290,296,512,389,234,245,171,211,282,290,270,151,199,169,300,305,228,253,213,124,205,458,334,326,380,703,516,353,311,252,276,281,199,191,293,329,383,422,445,220,319,378,724,402,377,571,236,168,164,234,227,197,295,161,144,360,317,311,431,606,870,531,3221,2066,772,765,2688,1481,1344,1312,910,864,2406,2075,1221,18887,7461,3144,2189,2163,3440,1947,1537,1212,963,737,630,501,287,196,295,296,227,415,378,446,484,393,386,416,231,384,377,318,304,357,426,481,429,304,577,824,905,339,237,417,600,658,456],\"type\":\"scatter\",\"xaxis\":\"x5\",\"yaxis\":\"y5\"},{\"line\":{\"width\":0.5},\"marker\":{\"color\":\"darkslategray\"},\"x\":[\"2019-12-01\",\"2019-12-02\",\"2019-12-03\",\"2019-12-04\",\"2019-12-05\",\"2019-12-06\",\"2019-12-07\",\"2019-12-08\",\"2019-12-09\",\"2019-12-10\",\"2019-12-11\",\"2019-12-12\",\"2019-12-13\",\"2019-12-14\",\"2019-12-15\",\"2019-12-16\",\"2019-12-17\",\"2019-12-18\",\"2019-12-19\",\"2019-12-20\",\"2019-12-21\",\"2019-12-22\",\"2019-12-23\",\"2019-12-24\",\"2019-12-25\",\"2019-12-26\",\"2019-12-27\",\"2019-12-28\",\"2019-12-29\",\"2019-12-30\",\"2019-12-31\",\"2020-01-01\",\"2020-01-02\",\"2020-01-03\",\"2020-01-04\",\"2020-01-05\",\"2020-01-06\",\"2020-01-07\",\"2020-01-08\",\"2020-01-09\",\"2020-01-10\",\"2020-01-11\",\"2020-01-12\",\"2020-01-13\",\"2020-01-14\",\"2020-01-15\",\"2020-01-16\",\"2020-01-17\",\"2020-01-18\",\"2020-01-19\",\"2020-01-20\",\"2020-01-21\",\"2020-01-22\",\"2020-01-23\",\"2020-01-24\",\"2020-01-25\",\"2020-01-26\",\"2020-01-27\",\"2020-01-28\",\"2020-01-29\",\"2020-01-30\",\"2020-01-31\",\"2020-02-01\",\"2020-02-02\",\"2020-02-03\",\"2020-02-04\",\"2020-02-05\",\"2020-02-06\",\"2020-02-07\",\"2020-02-08\",\"2020-02-09\",\"2020-02-10\",\"2020-02-11\",\"2020-02-12\",\"2020-02-13\",\"2020-02-14\",\"2020-02-15\",\"2020-02-16\",\"2020-02-17\",\"2020-02-18\",\"2020-02-19\",\"2020-02-20\",\"2020-02-21\",\"2020-02-22\",\"2020-02-23\",\"2020-02-24\",\"2020-02-25\",\"2020-02-26\",\"2020-02-27\",\"2020-02-28\",\"2020-02-29\",\"2020-03-01\",\"2020-03-02\",\"2020-03-03\",\"2020-03-04\",\"2020-03-05\",\"2020-03-06\",\"2020-03-07\",\"2020-03-08\",\"2020-03-09\",\"2020-03-10\",\"2020-03-11\",\"2020-03-12\",\"2020-03-13\",\"2020-03-14\",\"2020-03-15\",\"2020-03-16\",\"2020-03-17\",\"2020-03-18\",\"2020-03-19\",\"2020-03-20\",\"2020-03-21\",\"2020-03-22\",\"2020-03-23\",\"2020-03-24\",\"2020-03-25\",\"2020-03-26\",\"2020-03-27\",\"2020-03-28\",\"2020-03-29\",\"2020-03-30\",\"2020-03-31\",\"2020-04-01\",\"2020-04-02\",\"2020-04-03\",\"2020-04-04\",\"2020-04-05\",\"2020-04-06\",\"2020-04-07\",\"2020-04-08\",\"2020-04-09\",\"2020-04-10\",\"2020-04-11\",\"2020-04-12\",\"2020-04-13\",\"2020-04-14\",\"2020-04-15\",\"2020-04-16\",\"2020-04-17\",\"2020-04-18\",\"2020-04-19\",\"2020-04-20\",\"2020-04-21\",\"2020-04-22\",\"2020-04-23\",\"2020-04-24\",\"2020-04-25\",\"2020-04-26\",\"2020-04-27\",\"2020-04-28\",\"2020-04-29\",\"2020-04-30\",\"2020-05-01\",\"2020-05-02\",\"2020-05-03\",\"2020-05-04\",\"2020-05-05\",\"2020-05-06\",\"2020-05-07\",\"2020-05-08\",\"2020-05-09\",\"2020-05-10\",\"2020-05-11\",\"2020-05-12\",\"2020-05-13\",\"2020-05-14\",\"2020-05-15\",\"2020-05-16\",\"2020-05-17\",\"2020-05-18\",\"2020-05-19\",\"2020-05-20\",\"2020-05-21\",\"2020-05-22\",\"2020-05-23\",\"2020-05-24\",\"2020-05-25\",\"2020-05-26\",\"2020-05-27\",\"2020-05-28\",\"2020-05-29\",\"2020-05-30\",\"2020-05-31\",\"2020-06-01\"],\"y\":[502,729,596,671,549,489,381,471,856,640,605,714,572,403,458,863,669,698,603,556,388,477,665,698,649,646,573,365,360,735,695,623,712,559,431,501,741,736,659,615,579,369,391,661,570,470,582,585,415,445,565,638,571,523,417,363,301,525,498,570,609,601,499,498,699,645,806,936,861,511,655,882,826,796,767,806,637,704,873,936,980,791,840,651,585,843,800,761,756,794,867,703,904,669,635,679,568,472,474,666,592,650,635,643,401,451,625,791,781,870,917,720,550,725,737,927,853,730,617,768,914,858,582,751,776,849,881,817,973,821,848,841,888,841,923,856,865,746,672,795,779,834,1048,937,1206,1341,993,1029,1045,1110,1099,1124,771,811,702,879,1066,992,1015,1066,863,744,996,967,1161,1120,1085,854,862,842,863,970,753,864,790,786,1419,1155,846,794,976,811,981,948],\"type\":\"scatter\",\"xaxis\":\"x6\",\"yaxis\":\"y6\"},{\"line\":{\"width\":0.5},\"marker\":{\"color\":\"darkslategray\"},\"x\":[\"2019-12-01\",\"2019-12-02\",\"2019-12-03\",\"2019-12-04\",\"2019-12-05\",\"2019-12-06\",\"2019-12-07\",\"2019-12-08\",\"2019-12-09\",\"2019-12-10\",\"2019-12-11\",\"2019-12-12\",\"2019-12-13\",\"2019-12-14\",\"2019-12-15\",\"2019-12-16\",\"2019-12-17\",\"2019-12-18\",\"2019-12-19\",\"2019-12-20\",\"2019-12-21\",\"2019-12-22\",\"2019-12-23\",\"2019-12-24\",\"2019-12-25\",\"2019-12-26\",\"2019-12-27\",\"2019-12-28\",\"2019-12-29\",\"2019-12-30\",\"2019-12-31\",\"2020-01-01\",\"2020-01-02\",\"2020-01-03\",\"2020-01-04\",\"2020-01-05\",\"2020-01-06\",\"2020-01-07\",\"2020-01-08\",\"2020-01-09\",\"2020-01-10\",\"2020-01-11\",\"2020-01-12\",\"2020-01-13\",\"2020-01-14\",\"2020-01-15\",\"2020-01-16\",\"2020-01-17\",\"2020-01-18\",\"2020-01-19\",\"2020-01-20\",\"2020-01-21\",\"2020-01-22\",\"2020-01-23\",\"2020-01-24\",\"2020-01-25\",\"2020-01-26\",\"2020-01-27\",\"2020-01-28\",\"2020-01-29\",\"2020-01-30\",\"2020-01-31\",\"2020-02-01\",\"2020-02-02\",\"2020-02-03\",\"2020-02-04\",\"2020-02-05\",\"2020-02-06\",\"2020-02-07\",\"2020-02-08\",\"2020-02-09\",\"2020-02-10\",\"2020-02-11\",\"2020-02-12\",\"2020-02-13\",\"2020-02-14\",\"2020-02-15\",\"2020-02-16\",\"2020-02-17\",\"2020-02-18\",\"2020-02-19\",\"2020-02-20\",\"2020-02-21\",\"2020-02-22\",\"2020-02-23\",\"2020-02-24\",\"2020-02-25\",\"2020-02-26\",\"2020-02-27\",\"2020-02-28\",\"2020-02-29\",\"2020-03-01\",\"2020-03-02\",\"2020-03-03\",\"2020-03-04\",\"2020-03-05\",\"2020-03-06\",\"2020-03-07\",\"2020-03-08\",\"2020-03-09\",\"2020-03-10\",\"2020-03-11\",\"2020-03-12\",\"2020-03-13\",\"2020-03-14\",\"2020-03-15\",\"2020-03-16\",\"2020-03-17\",\"2020-03-18\",\"2020-03-19\",\"2020-03-20\",\"2020-03-21\",\"2020-03-22\",\"2020-03-23\",\"2020-03-24\",\"2020-03-25\",\"2020-03-26\",\"2020-03-27\",\"2020-03-28\",\"2020-03-29\",\"2020-03-30\",\"2020-03-31\",\"2020-04-01\",\"2020-04-02\",\"2020-04-03\",\"2020-04-04\",\"2020-04-05\",\"2020-04-06\",\"2020-04-07\",\"2020-04-08\",\"2020-04-09\",\"2020-04-10\",\"2020-04-11\",\"2020-04-12\",\"2020-04-13\",\"2020-04-14\",\"2020-04-15\",\"2020-04-16\",\"2020-04-17\",\"2020-04-18\",\"2020-04-19\",\"2020-04-20\",\"2020-04-21\",\"2020-04-22\",\"2020-04-23\",\"2020-04-24\",\"2020-04-25\",\"2020-04-26\",\"2020-04-27\",\"2020-04-28\",\"2020-04-29\",\"2020-04-30\",\"2020-05-01\",\"2020-05-02\",\"2020-05-03\",\"2020-05-04\",\"2020-05-05\",\"2020-05-06\",\"2020-05-07\",\"2020-05-08\",\"2020-05-09\",\"2020-05-10\",\"2020-05-11\",\"2020-05-12\",\"2020-05-13\",\"2020-05-14\",\"2020-05-15\",\"2020-05-16\",\"2020-05-17\",\"2020-05-18\",\"2020-05-19\",\"2020-05-20\",\"2020-05-21\",\"2020-05-22\",\"2020-05-23\",\"2020-05-24\",\"2020-05-25\",\"2020-05-26\",\"2020-05-27\",\"2020-05-28\",\"2020-05-29\",\"2020-05-30\",\"2020-05-31\",\"2020-06-01\"],\"y\":[1,1,1,2,1510,1492,1115,972,1514,1450,1145,1547,1134,796,1499,1826,2213,1991,1682,1543,1396,1466,1872,1717,1632,1599,1157,1043,911,1406,2275,2656,1912,1547,1065,924,1509,1668,1688,1249,1386,1173,1532,1360,1318,1352,1955,1378,1243,1243,1499,1384,1709,2054,1514,1151,1306,1372,1563,1873,1583,1463,1317,1041,1057,1249,1488,1653,1657,1052,1214,1290,1148,1170,1026,1142,874,1055,1462,1741,1209,1321,1392,1000,959,1053,1288,1656,1478,1935,1903,1494,1860,1640,924,1525,1458,1124,1429,1477,1482,1109,1114,1171,837,1087,1285,1635,2054,1581,1905,1328,1181,1438,1471,1149,1027,1133,962,1049,1427,1563,1639,1343,1428,1529,1537,2290,2121,1329,1934,3481,2142,2374,2005,1609,1515,3214,2462,1861,4789,2783,2283,1851,1977,2720,2037,1858,1401,2278,2136,1961,1451,1378,1013,1296,1437,1348,1421,1112,1239,1275,991,1644,1536,1618,1610,1817,1440,1261,1313,1230,1229,1069,1156,1456,1872,1977,1815,1440,1587,1518,1497,1309],\"type\":\"scatter\",\"xaxis\":\"x7\",\"yaxis\":\"y7\"},{\"line\":{\"width\":0.5},\"marker\":{\"color\":\"darkslategray\"},\"x\":[\"2019-12-01\",\"2019-12-02\",\"2019-12-03\",\"2019-12-04\",\"2019-12-05\",\"2019-12-06\",\"2019-12-07\",\"2019-12-08\",\"2019-12-09\",\"2019-12-10\",\"2019-12-11\",\"2019-12-12\",\"2019-12-13\",\"2019-12-14\",\"2019-12-15\",\"2019-12-16\",\"2019-12-17\",\"2019-12-18\",\"2019-12-19\",\"2019-12-20\",\"2019-12-21\",\"2019-12-22\",\"2019-12-23\",\"2019-12-24\",\"2019-12-25\",\"2019-12-26\",\"2019-12-27\",\"2019-12-28\",\"2019-12-29\",\"2019-12-30\",\"2019-12-31\",\"2020-01-01\",\"2020-01-02\",\"2020-01-03\",\"2020-01-04\",\"2020-01-05\",\"2020-01-06\",\"2020-01-07\",\"2020-01-08\",\"2020-01-09\",\"2020-01-10\",\"2020-01-11\",\"2020-01-12\",\"2020-01-13\",\"2020-01-14\",\"2020-01-15\",\"2020-01-16\",\"2020-01-17\",\"2020-01-18\",\"2020-01-19\",\"2020-01-20\",\"2020-01-21\",\"2020-01-22\",\"2020-01-23\",\"2020-01-24\",\"2020-01-25\",\"2020-01-26\",\"2020-01-27\",\"2020-01-28\",\"2020-01-29\",\"2020-01-30\",\"2020-01-31\",\"2020-02-01\",\"2020-02-02\",\"2020-02-03\",\"2020-02-04\",\"2020-02-05\",\"2020-02-06\",\"2020-02-07\",\"2020-02-08\",\"2020-02-09\",\"2020-02-10\",\"2020-02-11\",\"2020-02-12\",\"2020-02-13\",\"2020-02-14\",\"2020-02-15\",\"2020-02-16\",\"2020-02-17\",\"2020-02-18\",\"2020-02-19\",\"2020-02-20\",\"2020-02-21\",\"2020-02-22\",\"2020-02-23\",\"2020-02-24\",\"2020-02-25\",\"2020-02-26\",\"2020-02-27\",\"2020-02-28\",\"2020-02-29\",\"2020-03-01\",\"2020-03-02\",\"2020-03-03\",\"2020-03-04\",\"2020-03-05\",\"2020-03-06\",\"2020-03-07\",\"2020-03-08\",\"2020-03-09\",\"2020-03-10\",\"2020-03-11\",\"2020-03-12\",\"2020-03-13\",\"2020-03-14\",\"2020-03-15\",\"2020-03-16\",\"2020-03-17\",\"2020-03-18\",\"2020-03-19\",\"2020-03-20\",\"2020-03-21\",\"2020-03-22\",\"2020-03-23\",\"2020-03-24\",\"2020-03-25\",\"2020-03-26\",\"2020-03-27\",\"2020-03-28\",\"2020-03-29\",\"2020-03-30\",\"2020-03-31\",\"2020-04-01\",\"2020-04-02\",\"2020-04-03\",\"2020-04-04\",\"2020-04-05\",\"2020-04-06\",\"2020-04-07\",\"2020-04-08\",\"2020-04-09\",\"2020-04-10\",\"2020-04-11\",\"2020-04-12\",\"2020-04-13\",\"2020-04-14\",\"2020-04-15\",\"2020-04-16\",\"2020-04-17\",\"2020-04-18\",\"2020-04-19\",\"2020-04-20\",\"2020-04-21\",\"2020-04-22\",\"2020-04-23\",\"2020-04-24\",\"2020-04-25\",\"2020-04-26\",\"2020-04-27\",\"2020-04-28\",\"2020-04-29\",\"2020-04-30\",\"2020-05-01\",\"2020-05-02\",\"2020-05-03\",\"2020-05-04\",\"2020-05-05\",\"2020-05-06\",\"2020-05-07\",\"2020-05-08\",\"2020-05-09\",\"2020-05-10\",\"2020-05-11\",\"2020-05-12\",\"2020-05-13\",\"2020-05-14\",\"2020-05-15\",\"2020-05-16\",\"2020-05-17\",\"2020-05-18\",\"2020-05-19\",\"2020-05-20\",\"2020-05-21\",\"2020-05-22\",\"2020-05-23\",\"2020-05-24\",\"2020-05-25\",\"2020-05-26\",\"2020-05-27\",\"2020-05-28\",\"2020-05-29\",\"2020-05-30\",\"2020-05-31\",\"2020-06-01\"],\"y\":[1,1,1,1,1,1,1,1,1,1,1,1,1,1,1,1,1,1,1,1,1,1,1,1,1,1,1,1,1,1,1,1,1,1,1,1,1,1,1,1,1,1,1,1,1,1,1,1,1,1,1,1,1,1,1,1,1,1,1,1,1,1,1,1,1,1,1,1,1,1,1,1,1,1,1,1,1,1,1,1,1,1,1,1,1,1,1,1,1,1,1,1,1,1,1,1,1,1,1,1,1,5763,7404,6367,3885,4182,6009,7215,6369,7219,6856,5033,4930,7775,9368,10043,9630,9213,5951,6229,8966,8220,9219,10509,7386,5704,5859,9695,8997,8026,8333,8091,6144,6396,8843,9625,8604,8845,7927,6101,14137,11966,9258,9131,9413,10113,6636,6860,9355,10154,9380,8373,6763,5788,5889,8537,9117,9992,9598,8388,5812,5851,8814,9092,8731,8586,7663,5370,5627,8248,8116,8174,7572,7320,5359,5407,7704,8699,7729,7637,7016,4598,5256,7125],\"type\":\"scatter\",\"xaxis\":\"x8\",\"yaxis\":\"y8\"},{\"line\":{\"width\":0.5},\"marker\":{\"color\":\"darkslategray\"},\"x\":[\"2019-12-01\",\"2019-12-02\",\"2019-12-03\",\"2019-12-04\",\"2019-12-05\",\"2019-12-06\",\"2019-12-07\",\"2019-12-08\",\"2019-12-09\",\"2019-12-10\",\"2019-12-11\",\"2019-12-12\",\"2019-12-13\",\"2019-12-14\",\"2019-12-15\",\"2019-12-16\",\"2019-12-17\",\"2019-12-18\",\"2019-12-19\",\"2019-12-20\",\"2019-12-21\",\"2019-12-22\",\"2019-12-23\",\"2019-12-24\",\"2019-12-25\",\"2019-12-26\",\"2019-12-27\",\"2019-12-28\",\"2019-12-29\",\"2019-12-30\",\"2019-12-31\",\"2020-01-01\",\"2020-01-02\",\"2020-01-03\",\"2020-01-04\",\"2020-01-05\",\"2020-01-06\",\"2020-01-07\",\"2020-01-08\",\"2020-01-09\",\"2020-01-10\",\"2020-01-11\",\"2020-01-12\",\"2020-01-13\",\"2020-01-14\",\"2020-01-15\",\"2020-01-16\",\"2020-01-17\",\"2020-01-18\",\"2020-01-19\",\"2020-01-20\",\"2020-01-21\",\"2020-01-22\",\"2020-01-23\",\"2020-01-24\",\"2020-01-25\",\"2020-01-26\",\"2020-01-27\",\"2020-01-28\",\"2020-01-29\",\"2020-01-30\",\"2020-01-31\",\"2020-02-01\",\"2020-02-02\",\"2020-02-03\",\"2020-02-04\",\"2020-02-05\",\"2020-02-06\",\"2020-02-07\",\"2020-02-08\",\"2020-02-09\",\"2020-02-10\",\"2020-02-11\",\"2020-02-12\",\"2020-02-13\",\"2020-02-14\",\"2020-02-15\",\"2020-02-16\",\"2020-02-17\",\"2020-02-18\",\"2020-02-19\",\"2020-02-20\",\"2020-02-21\",\"2020-02-22\",\"2020-02-23\",\"2020-02-24\",\"2020-02-25\",\"2020-02-26\",\"2020-02-27\",\"2020-02-28\",\"2020-02-29\",\"2020-03-01\",\"2020-03-02\",\"2020-03-03\",\"2020-03-04\",\"2020-03-05\",\"2020-03-06\",\"2020-03-07\",\"2020-03-08\",\"2020-03-09\",\"2020-03-10\",\"2020-03-11\",\"2020-03-12\",\"2020-03-13\",\"2020-03-14\",\"2020-03-15\",\"2020-03-16\",\"2020-03-17\",\"2020-03-18\",\"2020-03-19\",\"2020-03-20\",\"2020-03-21\",\"2020-03-22\",\"2020-03-23\",\"2020-03-24\",\"2020-03-25\",\"2020-03-26\",\"2020-03-27\",\"2020-03-28\",\"2020-03-29\",\"2020-03-30\",\"2020-03-31\",\"2020-04-01\",\"2020-04-02\",\"2020-04-03\",\"2020-04-04\",\"2020-04-05\",\"2020-04-06\",\"2020-04-07\",\"2020-04-08\",\"2020-04-09\",\"2020-04-10\",\"2020-04-11\",\"2020-04-12\",\"2020-04-13\",\"2020-04-14\",\"2020-04-15\",\"2020-04-16\",\"2020-04-17\",\"2020-04-18\",\"2020-04-19\",\"2020-04-20\",\"2020-04-21\",\"2020-04-22\",\"2020-04-23\",\"2020-04-24\",\"2020-04-25\",\"2020-04-26\",\"2020-04-27\",\"2020-04-28\",\"2020-04-29\",\"2020-04-30\",\"2020-05-01\",\"2020-05-02\",\"2020-05-03\",\"2020-05-04\",\"2020-05-05\",\"2020-05-06\",\"2020-05-07\",\"2020-05-08\",\"2020-05-09\",\"2020-05-10\",\"2020-05-11\",\"2020-05-12\",\"2020-05-13\",\"2020-05-14\",\"2020-05-15\",\"2020-05-16\",\"2020-05-17\",\"2020-05-18\",\"2020-05-19\",\"2020-05-20\",\"2020-05-21\",\"2020-05-22\",\"2020-05-23\",\"2020-05-24\",\"2020-05-25\",\"2020-05-26\",\"2020-05-27\",\"2020-05-28\",\"2020-05-29\",\"2020-05-30\",\"2020-05-31\",\"2020-06-01\"],\"y\":[1,1,1,1,1,1,1,1,1,1,1,1,1,1,1,1,1,1,1,1,1,1,1,1,1,1,1,1,1,1,1,1,1,1,1,1,1,1,1,1,1,1,1,1,1,1,1,1,1,1,1,1,1,1,1,1,1,1,1,1,1,1,1,1,1,1,1,1,1,1,1,1,1,1,1,1,1,1,1,1,1,1,1,1,1,1,1,1,1,1,1,1,1,1,1,1,1,1,1,1,1,5723,7324,6342,3840,4146,5959,7176,6320,7174,6812,4998,4880,7741,9320,10004,9557,9196,5934,6187,8902,8201,9173,10468,7377,5711,5851,9787,9025,8008,8314,8168,6184,6417,8860,9637,8619,8913,7974,6145,14890,12265,9378,9193,9470,10219,6692,6897,9381,10146,9396,8376,6751,5772,5876,8519,9118,9975,9599,8383,5819,5843,8784,9080,8725,8576,7653,5363,5605,8252,8129,8178,7560,7321,5346,5428,7726,8720,7741,7640,7034,4597,5258,7123],\"type\":\"scatter\",\"xaxis\":\"x9\",\"yaxis\":\"y9\"},{\"line\":{\"width\":0.5},\"marker\":{\"color\":\"darkslategray\"},\"x\":[\"2019-12-01\",\"2019-12-02\",\"2019-12-03\",\"2019-12-04\",\"2019-12-05\",\"2019-12-06\",\"2019-12-07\",\"2019-12-08\",\"2019-12-09\",\"2019-12-10\",\"2019-12-11\",\"2019-12-12\",\"2019-12-13\",\"2019-12-14\",\"2019-12-15\",\"2019-12-16\",\"2019-12-17\",\"2019-12-18\",\"2019-12-19\",\"2019-12-20\",\"2019-12-21\",\"2019-12-22\",\"2019-12-23\",\"2019-12-24\",\"2019-12-25\",\"2019-12-26\",\"2019-12-27\",\"2019-12-28\",\"2019-12-29\",\"2019-12-30\",\"2019-12-31\",\"2020-01-01\",\"2020-01-02\",\"2020-01-03\",\"2020-01-04\",\"2020-01-05\",\"2020-01-06\",\"2020-01-07\",\"2020-01-08\",\"2020-01-09\",\"2020-01-10\",\"2020-01-11\",\"2020-01-12\",\"2020-01-13\",\"2020-01-14\",\"2020-01-15\",\"2020-01-16\",\"2020-01-17\",\"2020-01-18\",\"2020-01-19\",\"2020-01-20\",\"2020-01-21\",\"2020-01-22\",\"2020-01-23\",\"2020-01-24\",\"2020-01-25\",\"2020-01-26\",\"2020-01-27\",\"2020-01-28\",\"2020-01-29\",\"2020-01-30\",\"2020-01-31\",\"2020-02-01\",\"2020-02-02\",\"2020-02-03\",\"2020-02-04\",\"2020-02-05\",\"2020-02-06\",\"2020-02-07\",\"2020-02-08\",\"2020-02-09\",\"2020-02-10\",\"2020-02-11\",\"2020-02-12\",\"2020-02-13\",\"2020-02-14\",\"2020-02-15\",\"2020-02-16\",\"2020-02-17\",\"2020-02-18\",\"2020-02-19\",\"2020-02-20\",\"2020-02-21\",\"2020-02-22\",\"2020-02-23\",\"2020-02-24\",\"2020-02-25\",\"2020-02-26\",\"2020-02-27\",\"2020-02-28\",\"2020-02-29\",\"2020-03-01\",\"2020-03-02\",\"2020-03-03\",\"2020-03-04\",\"2020-03-05\",\"2020-03-06\",\"2020-03-07\",\"2020-03-08\",\"2020-03-09\",\"2020-03-10\",\"2020-03-11\",\"2020-03-12\",\"2020-03-13\",\"2020-03-14\",\"2020-03-15\",\"2020-03-16\",\"2020-03-17\",\"2020-03-18\",\"2020-03-19\",\"2020-03-20\",\"2020-03-21\",\"2020-03-22\",\"2020-03-23\",\"2020-03-24\",\"2020-03-25\",\"2020-03-26\",\"2020-03-27\",\"2020-03-28\",\"2020-03-29\",\"2020-03-30\",\"2020-03-31\",\"2020-04-01\",\"2020-04-02\",\"2020-04-03\",\"2020-04-04\",\"2020-04-05\",\"2020-04-06\",\"2020-04-07\",\"2020-04-08\",\"2020-04-09\",\"2020-04-10\",\"2020-04-11\",\"2020-04-12\",\"2020-04-13\",\"2020-04-14\",\"2020-04-15\",\"2020-04-16\",\"2020-04-17\",\"2020-04-18\",\"2020-04-19\",\"2020-04-20\",\"2020-04-21\",\"2020-04-22\",\"2020-04-23\",\"2020-04-24\",\"2020-04-25\",\"2020-04-26\",\"2020-04-27\",\"2020-04-28\",\"2020-04-29\",\"2020-04-30\",\"2020-05-01\",\"2020-05-02\",\"2020-05-03\",\"2020-05-04\",\"2020-05-05\",\"2020-05-06\",\"2020-05-07\",\"2020-05-08\",\"2020-05-09\",\"2020-05-10\",\"2020-05-11\",\"2020-05-12\",\"2020-05-13\",\"2020-05-14\",\"2020-05-15\",\"2020-05-16\",\"2020-05-17\",\"2020-05-18\",\"2020-05-19\",\"2020-05-20\",\"2020-05-21\",\"2020-05-22\",\"2020-05-23\",\"2020-05-24\",\"2020-05-25\",\"2020-05-26\",\"2020-05-27\",\"2020-05-28\",\"2020-05-29\",\"2020-05-30\",\"2020-05-31\",\"2020-06-01\"],\"y\":[2549,3556,3581,3544,3206,3010,2009,2151,3494,3458,3340,3481,3097,2067,2405,3813,3866,3759,3568,3043,2319,2538,3593,3250,2581,3333,3352,2542,2701,3547,3409,3126,4629,4088,2678,2870,4197,4163,3990,3975,3575,2370,2527,3901,3871,3685,3871,3508,2060,2222,3538,3802,3692,3574,3498,2071,2414,3416,3562,3704,3212,3154,2466,2383,3728,3871,4101,4874,4415,3153,3423,5031,4833,4482,4520,4262,2983,3344,4959,5321,4807,4646,4436,3071,3388,4137,4416,4166,4075,3877,3246,3743,4553,4512,4160,3877,3844,2820,3100,4387,3944,3861,3638,3466,2720,3151,3694,3870,3979,3623,3889,3642,3722,4312,4141,4023,3885,3801,3396,3898,4384,4165,4103,4164,3827,3801,4209,4072,4623,4482,4625,4752,4429,4643,5386,5058,5026,4576,4631,4208,5262,5015,4555,4719,4884,5320,4907,5227,5859,6177,5597,5306,5247,4666,4839,5157,5141,5550,5066,4967,4215,4501,5030,5243,5266,4869,4544,4451,4725,4963,5093,4775,4529,4502,4182,4129,5520,5577,5191,5078,4599,4180,4874,5035],\"type\":\"scatter\",\"xaxis\":\"x10\",\"yaxis\":\"y10\"}],                        {\"template\":{\"data\":{\"histogram2dcontour\":[{\"type\":\"histogram2dcontour\",\"colorbar\":{\"outlinewidth\":0,\"ticks\":\"\"},\"colorscale\":[[0.0,\"#0d0887\"],[0.1111111111111111,\"#46039f\"],[0.2222222222222222,\"#7201a8\"],[0.3333333333333333,\"#9c179e\"],[0.4444444444444444,\"#bd3786\"],[0.5555555555555556,\"#d8576b\"],[0.6666666666666666,\"#ed7953\"],[0.7777777777777778,\"#fb9f3a\"],[0.8888888888888888,\"#fdca26\"],[1.0,\"#f0f921\"]]}],\"choropleth\":[{\"type\":\"choropleth\",\"colorbar\":{\"outlinewidth\":0,\"ticks\":\"\"}}],\"histogram2d\":[{\"type\":\"histogram2d\",\"colorbar\":{\"outlinewidth\":0,\"ticks\":\"\"},\"colorscale\":[[0.0,\"#0d0887\"],[0.1111111111111111,\"#46039f\"],[0.2222222222222222,\"#7201a8\"],[0.3333333333333333,\"#9c179e\"],[0.4444444444444444,\"#bd3786\"],[0.5555555555555556,\"#d8576b\"],[0.6666666666666666,\"#ed7953\"],[0.7777777777777778,\"#fb9f3a\"],[0.8888888888888888,\"#fdca26\"],[1.0,\"#f0f921\"]]}],\"heatmap\":[{\"type\":\"heatmap\",\"colorbar\":{\"outlinewidth\":0,\"ticks\":\"\"},\"colorscale\":[[0.0,\"#0d0887\"],[0.1111111111111111,\"#46039f\"],[0.2222222222222222,\"#7201a8\"],[0.3333333333333333,\"#9c179e\"],[0.4444444444444444,\"#bd3786\"],[0.5555555555555556,\"#d8576b\"],[0.6666666666666666,\"#ed7953\"],[0.7777777777777778,\"#fb9f3a\"],[0.8888888888888888,\"#fdca26\"],[1.0,\"#f0f921\"]]}],\"heatmapgl\":[{\"type\":\"heatmapgl\",\"colorbar\":{\"outlinewidth\":0,\"ticks\":\"\"},\"colorscale\":[[0.0,\"#0d0887\"],[0.1111111111111111,\"#46039f\"],[0.2222222222222222,\"#7201a8\"],[0.3333333333333333,\"#9c179e\"],[0.4444444444444444,\"#bd3786\"],[0.5555555555555556,\"#d8576b\"],[0.6666666666666666,\"#ed7953\"],[0.7777777777777778,\"#fb9f3a\"],[0.8888888888888888,\"#fdca26\"],[1.0,\"#f0f921\"]]}],\"contourcarpet\":[{\"type\":\"contourcarpet\",\"colorbar\":{\"outlinewidth\":0,\"ticks\":\"\"}}],\"contour\":[{\"type\":\"contour\",\"colorbar\":{\"outlinewidth\":0,\"ticks\":\"\"},\"colorscale\":[[0.0,\"#0d0887\"],[0.1111111111111111,\"#46039f\"],[0.2222222222222222,\"#7201a8\"],[0.3333333333333333,\"#9c179e\"],[0.4444444444444444,\"#bd3786\"],[0.5555555555555556,\"#d8576b\"],[0.6666666666666666,\"#ed7953\"],[0.7777777777777778,\"#fb9f3a\"],[0.8888888888888888,\"#fdca26\"],[1.0,\"#f0f921\"]]}],\"surface\":[{\"type\":\"surface\",\"colorbar\":{\"outlinewidth\":0,\"ticks\":\"\"},\"colorscale\":[[0.0,\"#0d0887\"],[0.1111111111111111,\"#46039f\"],[0.2222222222222222,\"#7201a8\"],[0.3333333333333333,\"#9c179e\"],[0.4444444444444444,\"#bd3786\"],[0.5555555555555556,\"#d8576b\"],[0.6666666666666666,\"#ed7953\"],[0.7777777777777778,\"#fb9f3a\"],[0.8888888888888888,\"#fdca26\"],[1.0,\"#f0f921\"]]}],\"mesh3d\":[{\"type\":\"mesh3d\",\"colorbar\":{\"outlinewidth\":0,\"ticks\":\"\"}}],\"scatter\":[{\"fillpattern\":{\"fillmode\":\"overlay\",\"size\":10,\"solidity\":0.2},\"type\":\"scatter\"}],\"parcoords\":[{\"type\":\"parcoords\",\"line\":{\"colorbar\":{\"outlinewidth\":0,\"ticks\":\"\"}}}],\"scatterpolargl\":[{\"type\":\"scatterpolargl\",\"marker\":{\"colorbar\":{\"outlinewidth\":0,\"ticks\":\"\"}}}],\"bar\":[{\"error_x\":{\"color\":\"#2a3f5f\"},\"error_y\":{\"color\":\"#2a3f5f\"},\"marker\":{\"line\":{\"color\":\"#E5ECF6\",\"width\":0.5},\"pattern\":{\"fillmode\":\"overlay\",\"size\":10,\"solidity\":0.2}},\"type\":\"bar\"}],\"scattergeo\":[{\"type\":\"scattergeo\",\"marker\":{\"colorbar\":{\"outlinewidth\":0,\"ticks\":\"\"}}}],\"scatterpolar\":[{\"type\":\"scatterpolar\",\"marker\":{\"colorbar\":{\"outlinewidth\":0,\"ticks\":\"\"}}}],\"histogram\":[{\"marker\":{\"pattern\":{\"fillmode\":\"overlay\",\"size\":10,\"solidity\":0.2}},\"type\":\"histogram\"}],\"scattergl\":[{\"type\":\"scattergl\",\"marker\":{\"colorbar\":{\"outlinewidth\":0,\"ticks\":\"\"}}}],\"scatter3d\":[{\"type\":\"scatter3d\",\"line\":{\"colorbar\":{\"outlinewidth\":0,\"ticks\":\"\"}},\"marker\":{\"colorbar\":{\"outlinewidth\":0,\"ticks\":\"\"}}}],\"scattermapbox\":[{\"type\":\"scattermapbox\",\"marker\":{\"colorbar\":{\"outlinewidth\":0,\"ticks\":\"\"}}}],\"scatterternary\":[{\"type\":\"scatterternary\",\"marker\":{\"colorbar\":{\"outlinewidth\":0,\"ticks\":\"\"}}}],\"scattercarpet\":[{\"type\":\"scattercarpet\",\"marker\":{\"colorbar\":{\"outlinewidth\":0,\"ticks\":\"\"}}}],\"carpet\":[{\"aaxis\":{\"endlinecolor\":\"#2a3f5f\",\"gridcolor\":\"white\",\"linecolor\":\"white\",\"minorgridcolor\":\"white\",\"startlinecolor\":\"#2a3f5f\"},\"baxis\":{\"endlinecolor\":\"#2a3f5f\",\"gridcolor\":\"white\",\"linecolor\":\"white\",\"minorgridcolor\":\"white\",\"startlinecolor\":\"#2a3f5f\"},\"type\":\"carpet\"}],\"table\":[{\"cells\":{\"fill\":{\"color\":\"#EBF0F8\"},\"line\":{\"color\":\"white\"}},\"header\":{\"fill\":{\"color\":\"#C8D4E3\"},\"line\":{\"color\":\"white\"}},\"type\":\"table\"}],\"barpolar\":[{\"marker\":{\"line\":{\"color\":\"#E5ECF6\",\"width\":0.5},\"pattern\":{\"fillmode\":\"overlay\",\"size\":10,\"solidity\":0.2}},\"type\":\"barpolar\"}],\"pie\":[{\"automargin\":true,\"type\":\"pie\"}]},\"layout\":{\"autotypenumbers\":\"strict\",\"colorway\":[\"#636efa\",\"#EF553B\",\"#00cc96\",\"#ab63fa\",\"#FFA15A\",\"#19d3f3\",\"#FF6692\",\"#B6E880\",\"#FF97FF\",\"#FECB52\"],\"font\":{\"color\":\"#2a3f5f\"},\"hovermode\":\"closest\",\"hoverlabel\":{\"align\":\"left\"},\"paper_bgcolor\":\"white\",\"plot_bgcolor\":\"#E5ECF6\",\"polar\":{\"bgcolor\":\"#E5ECF6\",\"angularaxis\":{\"gridcolor\":\"white\",\"linecolor\":\"white\",\"ticks\":\"\"},\"radialaxis\":{\"gridcolor\":\"white\",\"linecolor\":\"white\",\"ticks\":\"\"}},\"ternary\":{\"bgcolor\":\"#E5ECF6\",\"aaxis\":{\"gridcolor\":\"white\",\"linecolor\":\"white\",\"ticks\":\"\"},\"baxis\":{\"gridcolor\":\"white\",\"linecolor\":\"white\",\"ticks\":\"\"},\"caxis\":{\"gridcolor\":\"white\",\"linecolor\":\"white\",\"ticks\":\"\"}},\"coloraxis\":{\"colorbar\":{\"outlinewidth\":0,\"ticks\":\"\"}},\"colorscale\":{\"sequential\":[[0.0,\"#0d0887\"],[0.1111111111111111,\"#46039f\"],[0.2222222222222222,\"#7201a8\"],[0.3333333333333333,\"#9c179e\"],[0.4444444444444444,\"#bd3786\"],[0.5555555555555556,\"#d8576b\"],[0.6666666666666666,\"#ed7953\"],[0.7777777777777778,\"#fb9f3a\"],[0.8888888888888888,\"#fdca26\"],[1.0,\"#f0f921\"]],\"sequentialminus\":[[0.0,\"#0d0887\"],[0.1111111111111111,\"#46039f\"],[0.2222222222222222,\"#7201a8\"],[0.3333333333333333,\"#9c179e\"],[0.4444444444444444,\"#bd3786\"],[0.5555555555555556,\"#d8576b\"],[0.6666666666666666,\"#ed7953\"],[0.7777777777777778,\"#fb9f3a\"],[0.8888888888888888,\"#fdca26\"],[1.0,\"#f0f921\"]],\"diverging\":[[0,\"#8e0152\"],[0.1,\"#c51b7d\"],[0.2,\"#de77ae\"],[0.3,\"#f1b6da\"],[0.4,\"#fde0ef\"],[0.5,\"#f7f7f7\"],[0.6,\"#e6f5d0\"],[0.7,\"#b8e186\"],[0.8,\"#7fbc41\"],[0.9,\"#4d9221\"],[1,\"#276419\"]]},\"xaxis\":{\"gridcolor\":\"white\",\"linecolor\":\"white\",\"ticks\":\"\",\"title\":{\"standoff\":15},\"zerolinecolor\":\"white\",\"automargin\":true,\"zerolinewidth\":2},\"yaxis\":{\"gridcolor\":\"white\",\"linecolor\":\"white\",\"ticks\":\"\",\"title\":{\"standoff\":15},\"zerolinecolor\":\"white\",\"automargin\":true,\"zerolinewidth\":2},\"scene\":{\"xaxis\":{\"backgroundcolor\":\"#E5ECF6\",\"gridcolor\":\"white\",\"linecolor\":\"white\",\"showbackground\":true,\"ticks\":\"\",\"zerolinecolor\":\"white\",\"gridwidth\":2},\"yaxis\":{\"backgroundcolor\":\"#E5ECF6\",\"gridcolor\":\"white\",\"linecolor\":\"white\",\"showbackground\":true,\"ticks\":\"\",\"zerolinecolor\":\"white\",\"gridwidth\":2},\"zaxis\":{\"backgroundcolor\":\"#E5ECF6\",\"gridcolor\":\"white\",\"linecolor\":\"white\",\"showbackground\":true,\"ticks\":\"\",\"zerolinecolor\":\"white\",\"gridwidth\":2}},\"shapedefaults\":{\"line\":{\"color\":\"#2a3f5f\"}},\"annotationdefaults\":{\"arrowcolor\":\"#2a3f5f\",\"arrowhead\":0,\"arrowwidth\":1},\"geo\":{\"bgcolor\":\"white\",\"landcolor\":\"#E5ECF6\",\"subunitcolor\":\"white\",\"showland\":true,\"showlakes\":true,\"lakecolor\":\"white\"},\"title\":{\"x\":0.05},\"mapbox\":{\"style\":\"light\"}}},\"xaxis\":{\"anchor\":\"y\",\"domain\":[0.0,0.45],\"showgrid\":false},\"yaxis\":{\"anchor\":\"x\",\"domain\":[0.88,1.0],\"showgrid\":false},\"xaxis2\":{\"anchor\":\"y2\",\"domain\":[0.55,1.0],\"showgrid\":false},\"yaxis2\":{\"anchor\":\"x2\",\"domain\":[0.88,1.0],\"showgrid\":false},\"xaxis3\":{\"anchor\":\"y3\",\"domain\":[0.0,0.45],\"showgrid\":false},\"yaxis3\":{\"anchor\":\"x3\",\"domain\":[0.66,0.78],\"showgrid\":false},\"xaxis4\":{\"anchor\":\"y4\",\"domain\":[0.55,1.0],\"showgrid\":false},\"yaxis4\":{\"anchor\":\"x4\",\"domain\":[0.66,0.78],\"showgrid\":false},\"xaxis5\":{\"anchor\":\"y5\",\"domain\":[0.0,0.45],\"showgrid\":false},\"yaxis5\":{\"anchor\":\"x5\",\"domain\":[0.44,0.56],\"showgrid\":false},\"xaxis6\":{\"anchor\":\"y6\",\"domain\":[0.55,1.0],\"showgrid\":false},\"yaxis6\":{\"anchor\":\"x6\",\"domain\":[0.44,0.56],\"showgrid\":false},\"xaxis7\":{\"anchor\":\"y7\",\"domain\":[0.0,0.45],\"showgrid\":false},\"yaxis7\":{\"anchor\":\"x7\",\"domain\":[0.22,0.33999999999999997],\"showgrid\":false},\"xaxis8\":{\"anchor\":\"y8\",\"domain\":[0.55,1.0],\"showgrid\":false},\"yaxis8\":{\"anchor\":\"x8\",\"domain\":[0.22,0.33999999999999997],\"showgrid\":false},\"xaxis9\":{\"anchor\":\"y9\",\"domain\":[0.0,0.45],\"showgrid\":false},\"yaxis9\":{\"anchor\":\"x9\",\"domain\":[0.0,0.12],\"showgrid\":false},\"xaxis10\":{\"anchor\":\"y10\",\"domain\":[0.55,1.0],\"showgrid\":false},\"yaxis10\":{\"anchor\":\"x10\",\"domain\":[0.0,0.12],\"showgrid\":false},\"annotations\":[{\"font\":{\"size\":16},\"showarrow\":false,\"text\":\"LivebookLogin\",\"x\":0.225,\"xanchor\":\"center\",\"xref\":\"paper\",\"y\":1.0,\"yanchor\":\"bottom\",\"yref\":\"paper\"},{\"font\":{\"size\":16},\"showarrow\":false,\"text\":\"ProductTocLivebookLinkOpened\",\"x\":0.775,\"xanchor\":\"center\",\"xref\":\"paper\",\"y\":1.0,\"yanchor\":\"bottom\",\"yref\":\"paper\"},{\"font\":{\"size\":16},\"showarrow\":false,\"text\":\"ReadingOpenChapter\",\"x\":0.225,\"xanchor\":\"center\",\"xref\":\"paper\",\"y\":0.78,\"yanchor\":\"bottom\",\"yref\":\"paper\"},{\"font\":{\"size\":16},\"showarrow\":false,\"text\":\"HighlightCreated\",\"x\":0.775,\"xanchor\":\"center\",\"xref\":\"paper\",\"y\":0.78,\"yanchor\":\"bottom\",\"yref\":\"paper\"},{\"font\":{\"size\":16},\"showarrow\":false,\"text\":\"FreeContentCheckout\",\"x\":0.225,\"xanchor\":\"center\",\"xref\":\"paper\",\"y\":0.56,\"yanchor\":\"bottom\",\"yref\":\"paper\"},{\"font\":{\"size\":16},\"showarrow\":false,\"text\":\"ReadingFreePreview\",\"x\":0.775,\"xanchor\":\"center\",\"xref\":\"paper\",\"y\":0.56,\"yanchor\":\"bottom\",\"yref\":\"paper\"},{\"font\":{\"size\":16},\"showarrow\":false,\"text\":\"EBookDownloaded\",\"x\":0.225,\"xanchor\":\"center\",\"xref\":\"paper\",\"y\":0.33999999999999997,\"yanchor\":\"bottom\",\"yref\":\"paper\"},{\"font\":{\"size\":16},\"showarrow\":false,\"text\":\"FirstManningAccess\",\"x\":0.775,\"xanchor\":\"center\",\"xref\":\"paper\",\"y\":0.33999999999999997,\"yanchor\":\"bottom\",\"yref\":\"paper\"},{\"font\":{\"size\":16},\"showarrow\":false,\"text\":\"FirstLivebookAccess\",\"x\":0.225,\"xanchor\":\"center\",\"xref\":\"paper\",\"y\":0.12,\"yanchor\":\"bottom\",\"yref\":\"paper\"},{\"font\":{\"size\":16},\"showarrow\":false,\"text\":\"ReadingOwnedBook\",\"x\":0.775,\"xanchor\":\"center\",\"xref\":\"paper\",\"y\":0.12,\"yanchor\":\"bottom\",\"yref\":\"paper\"}],\"title\":{\"text\":\"Anomaly detection\"},\"height\":1000,\"width\":1000,\"showlegend\":false},                        {\"responsive\": true}                    ).then(function(){\n",
              "                            \n",
              "var gd = document.getElementById('e6beb87f-6d8a-4bd4-a54a-7d59cc0b4894');\n",
              "var x = new MutationObserver(function (mutations, observer) {{\n",
              "        var display = window.getComputedStyle(gd).display;\n",
              "        if (!display || display === 'none') {{\n",
              "            console.log([gd, 'removed!']);\n",
              "            Plotly.purge(gd);\n",
              "            observer.disconnect();\n",
              "        }}\n",
              "}});\n",
              "\n",
              "// Listen for the removal of the full notebook cells\n",
              "var notebookContainer = gd.closest('#notebook-container');\n",
              "if (notebookContainer) {{\n",
              "    x.observe(notebookContainer, {childList: true});\n",
              "}}\n",
              "\n",
              "// Listen for the clearing of the current output cell\n",
              "var outputEl = gd.closest('.output');\n",
              "if (outputEl) {{\n",
              "    x.observe(outputEl, {childList: true});\n",
              "}}\n",
              "\n",
              "                        })                };                            </script>        </div>\n",
              "</body>\n",
              "</html>"
            ]
          },
          "metadata": {}
        }
      ]
    },
    {
      "cell_type": "markdown",
      "source": [
        "Big-picture observations \n",
        "\n",
        "*   Some events like FirstLivebookAccess and FirstManningAccess\n",
        "*   List item\n",
        "\n"
      ],
      "metadata": {
        "id": "rf06QIjewAhS"
      }
    },
    {
      "cell_type": "code",
      "source": [
        "all_events = []\n",
        "for event in popular_events:\n",
        "    filepath = f\"/content/drive/MyDrive/Churn prediction/events_per_day_{event}.csv\"\n",
        "    event_df = pd.read_csv(filepath, index_col='measurement_date')\n",
        "    all_events.append(event_df)\n",
        "\n",
        "all_events = pd.concat(all_events, axis=1, join=\"outer\")\n",
        "all_events.columns = popular_events\n",
        "\n",
        "# Verify\n",
        "all_events.head(4)"
      ],
      "metadata": {
        "colab": {
          "base_uri": "https://localhost:8080/",
          "height": 270
        },
        "id": "Kkjk30HCtzbU",
        "outputId": "79ea2c0f-c25d-4c2a-82a3-638b4eb1f555"
      },
      "execution_count": 33,
      "outputs": [
        {
          "output_type": "execute_result",
          "data": {
            "text/plain": [
              "                  LivebookLogin  ProductTocLivebookLinkOpened  \\\n",
              "measurement_date                                                \n",
              "2019-12-01                    1                           387   \n",
              "2019-12-02                    1                           687   \n",
              "2019-12-03                    1                           411   \n",
              "2019-12-04                  190                           483   \n",
              "\n",
              "                  ReadingOpenChapter  HighlightCreated  FreeContentCheckout  \\\n",
              "measurement_date                                                              \n",
              "2019-12-01                       503               577                    1   \n",
              "2019-12-02                       690               886                    1   \n",
              "2019-12-03                       610               951                    1   \n",
              "2019-12-04                       597               659                    1   \n",
              "\n",
              "                  ReadingFreePreview  EBookDownloaded  FirstManningAccess  \\\n",
              "measurement_date                                                            \n",
              "2019-12-01                       502                1                   1   \n",
              "2019-12-02                       729                1                   1   \n",
              "2019-12-03                       596                1                   1   \n",
              "2019-12-04                       671                2                   1   \n",
              "\n",
              "                  FirstLivebookAccess  ReadingOwnedBook  \n",
              "measurement_date                                         \n",
              "2019-12-01                          1              2549  \n",
              "2019-12-02                          1              3556  \n",
              "2019-12-03                          1              3581  \n",
              "2019-12-04                          1              3544  "
            ],
            "text/html": [
              "\n",
              "  <div id=\"df-59c4c10d-b7a7-4cf5-9eb9-2fcdd2fc4eb6\">\n",
              "    <div class=\"colab-df-container\">\n",
              "      <div>\n",
              "<style scoped>\n",
              "    .dataframe tbody tr th:only-of-type {\n",
              "        vertical-align: middle;\n",
              "    }\n",
              "\n",
              "    .dataframe tbody tr th {\n",
              "        vertical-align: top;\n",
              "    }\n",
              "\n",
              "    .dataframe thead th {\n",
              "        text-align: right;\n",
              "    }\n",
              "</style>\n",
              "<table border=\"1\" class=\"dataframe\">\n",
              "  <thead>\n",
              "    <tr style=\"text-align: right;\">\n",
              "      <th></th>\n",
              "      <th>LivebookLogin</th>\n",
              "      <th>ProductTocLivebookLinkOpened</th>\n",
              "      <th>ReadingOpenChapter</th>\n",
              "      <th>HighlightCreated</th>\n",
              "      <th>FreeContentCheckout</th>\n",
              "      <th>ReadingFreePreview</th>\n",
              "      <th>EBookDownloaded</th>\n",
              "      <th>FirstManningAccess</th>\n",
              "      <th>FirstLivebookAccess</th>\n",
              "      <th>ReadingOwnedBook</th>\n",
              "    </tr>\n",
              "    <tr>\n",
              "      <th>measurement_date</th>\n",
              "      <th></th>\n",
              "      <th></th>\n",
              "      <th></th>\n",
              "      <th></th>\n",
              "      <th></th>\n",
              "      <th></th>\n",
              "      <th></th>\n",
              "      <th></th>\n",
              "      <th></th>\n",
              "      <th></th>\n",
              "    </tr>\n",
              "  </thead>\n",
              "  <tbody>\n",
              "    <tr>\n",
              "      <th>2019-12-01</th>\n",
              "      <td>1</td>\n",
              "      <td>387</td>\n",
              "      <td>503</td>\n",
              "      <td>577</td>\n",
              "      <td>1</td>\n",
              "      <td>502</td>\n",
              "      <td>1</td>\n",
              "      <td>1</td>\n",
              "      <td>1</td>\n",
              "      <td>2549</td>\n",
              "    </tr>\n",
              "    <tr>\n",
              "      <th>2019-12-02</th>\n",
              "      <td>1</td>\n",
              "      <td>687</td>\n",
              "      <td>690</td>\n",
              "      <td>886</td>\n",
              "      <td>1</td>\n",
              "      <td>729</td>\n",
              "      <td>1</td>\n",
              "      <td>1</td>\n",
              "      <td>1</td>\n",
              "      <td>3556</td>\n",
              "    </tr>\n",
              "    <tr>\n",
              "      <th>2019-12-03</th>\n",
              "      <td>1</td>\n",
              "      <td>411</td>\n",
              "      <td>610</td>\n",
              "      <td>951</td>\n",
              "      <td>1</td>\n",
              "      <td>596</td>\n",
              "      <td>1</td>\n",
              "      <td>1</td>\n",
              "      <td>1</td>\n",
              "      <td>3581</td>\n",
              "    </tr>\n",
              "    <tr>\n",
              "      <th>2019-12-04</th>\n",
              "      <td>190</td>\n",
              "      <td>483</td>\n",
              "      <td>597</td>\n",
              "      <td>659</td>\n",
              "      <td>1</td>\n",
              "      <td>671</td>\n",
              "      <td>2</td>\n",
              "      <td>1</td>\n",
              "      <td>1</td>\n",
              "      <td>3544</td>\n",
              "    </tr>\n",
              "  </tbody>\n",
              "</table>\n",
              "</div>\n",
              "      <button class=\"colab-df-convert\" onclick=\"convertToInteractive('df-59c4c10d-b7a7-4cf5-9eb9-2fcdd2fc4eb6')\"\n",
              "              title=\"Convert this dataframe to an interactive table.\"\n",
              "              style=\"display:none;\">\n",
              "        \n",
              "  <svg xmlns=\"http://www.w3.org/2000/svg\" height=\"24px\"viewBox=\"0 0 24 24\"\n",
              "       width=\"24px\">\n",
              "    <path d=\"M0 0h24v24H0V0z\" fill=\"none\"/>\n",
              "    <path d=\"M18.56 5.44l.94 2.06.94-2.06 2.06-.94-2.06-.94-.94-2.06-.94 2.06-2.06.94zm-11 1L8.5 8.5l.94-2.06 2.06-.94-2.06-.94L8.5 2.5l-.94 2.06-2.06.94zm10 10l.94 2.06.94-2.06 2.06-.94-2.06-.94-.94-2.06-.94 2.06-2.06.94z\"/><path d=\"M17.41 7.96l-1.37-1.37c-.4-.4-.92-.59-1.43-.59-.52 0-1.04.2-1.43.59L10.3 9.45l-7.72 7.72c-.78.78-.78 2.05 0 2.83L4 21.41c.39.39.9.59 1.41.59.51 0 1.02-.2 1.41-.59l7.78-7.78 2.81-2.81c.8-.78.8-2.07 0-2.86zM5.41 20L4 18.59l7.72-7.72 1.47 1.35L5.41 20z\"/>\n",
              "  </svg>\n",
              "      </button>\n",
              "      \n",
              "  <style>\n",
              "    .colab-df-container {\n",
              "      display:flex;\n",
              "      flex-wrap:wrap;\n",
              "      gap: 12px;\n",
              "    }\n",
              "\n",
              "    .colab-df-convert {\n",
              "      background-color: #E8F0FE;\n",
              "      border: none;\n",
              "      border-radius: 50%;\n",
              "      cursor: pointer;\n",
              "      display: none;\n",
              "      fill: #1967D2;\n",
              "      height: 32px;\n",
              "      padding: 0 0 0 0;\n",
              "      width: 32px;\n",
              "    }\n",
              "\n",
              "    .colab-df-convert:hover {\n",
              "      background-color: #E2EBFA;\n",
              "      box-shadow: 0px 1px 2px rgba(60, 64, 67, 0.3), 0px 1px 3px 1px rgba(60, 64, 67, 0.15);\n",
              "      fill: #174EA6;\n",
              "    }\n",
              "\n",
              "    [theme=dark] .colab-df-convert {\n",
              "      background-color: #3B4455;\n",
              "      fill: #D2E3FC;\n",
              "    }\n",
              "\n",
              "    [theme=dark] .colab-df-convert:hover {\n",
              "      background-color: #434B5C;\n",
              "      box-shadow: 0px 1px 3px 1px rgba(0, 0, 0, 0.15);\n",
              "      filter: drop-shadow(0px 1px 2px rgba(0, 0, 0, 0.3));\n",
              "      fill: #FFFFFF;\n",
              "    }\n",
              "  </style>\n",
              "\n",
              "      <script>\n",
              "        const buttonEl =\n",
              "          document.querySelector('#df-59c4c10d-b7a7-4cf5-9eb9-2fcdd2fc4eb6 button.colab-df-convert');\n",
              "        buttonEl.style.display =\n",
              "          google.colab.kernel.accessAllowed ? 'block' : 'none';\n",
              "\n",
              "        async function convertToInteractive(key) {\n",
              "          const element = document.querySelector('#df-59c4c10d-b7a7-4cf5-9eb9-2fcdd2fc4eb6');\n",
              "          const dataTable =\n",
              "            await google.colab.kernel.invokeFunction('convertToInteractive',\n",
              "                                                     [key], {});\n",
              "          if (!dataTable) return;\n",
              "\n",
              "          const docLinkHtml = 'Like what you see? Visit the ' +\n",
              "            '<a target=\"_blank\" href=https://colab.research.google.com/notebooks/data_table.ipynb>data table notebook</a>'\n",
              "            + ' to learn more about interactive tables.';\n",
              "          element.innerHTML = '';\n",
              "          dataTable['output_type'] = 'display_data';\n",
              "          await google.colab.output.renderOutput(dataTable, element);\n",
              "          const docLink = document.createElement('div');\n",
              "          docLink.innerHTML = docLinkHtml;\n",
              "          element.appendChild(docLink);\n",
              "        }\n",
              "      </script>\n",
              "    </div>\n",
              "  </div>\n",
              "  "
            ]
          },
          "metadata": {},
          "execution_count": 33
        }
      ]
    },
    {
      "cell_type": "code",
      "source": [
        "buttons_list = []\n",
        "\n",
        "for event in popular_events:\n",
        "  button = {}\n",
        "  button[\"args\"] = [{\n",
        "      'y': [all_events[event]],\n",
        "      'visible': True}, \n",
        "       {'title':event}, [0]]\n",
        "  button[\"label\"] = event\n",
        "  button[\"method\"] = \"update\"\n",
        "  buttons_list.append(button)"
      ],
      "metadata": {
        "id": "PbG-bsNd23I0"
      },
      "execution_count": 67,
      "outputs": []
    },
    {
      "cell_type": "code",
      "source": [
        "fig = go.Figure()\n",
        "fig.add_traces(go.Scatter(x=all_events.index, y=all_events.LivebookLogin, visible=True))\n",
        "\n",
        "fig.update_yaxes(\n",
        "    showgrid=False)\n",
        "\n",
        "fig.update_xaxes(\n",
        "    showgrid=False,\n",
        "    rangeslider_visible=True,\n",
        "    rangeselector=dict(\n",
        "        buttons=list([\n",
        "            dict(count=1, label=\"1m\", step=\"month\", stepmode=\"backward\"),\n",
        "            dict(count=3, label=\"3m\", step=\"month\", stepmode=\"backward\"),\n",
        "            dict(step=\"all\")])))\n",
        "\n",
        "fig.update_layout(\n",
        "    title=\"LivebookLogin\",\n",
        "    updatemenus=[\n",
        "        dict(\n",
        "            buttons=buttons_list,\n",
        "            direction=\"down\",\n",
        "            showactive=True,\n",
        "            x=1,\n",
        "            xanchor=\"right\",\n",
        "            y=1.16,\n",
        "            yanchor=\"top\")])\n",
        "fig.show()"
      ],
      "metadata": {
        "colab": {
          "base_uri": "https://localhost:8080/",
          "height": 542
        },
        "id": "KEAiRKHaJ_Ae",
        "outputId": "2e208fd6-563d-4bd8-9ca8-8836c19718f2"
      },
      "execution_count": 85,
      "outputs": [
        {
          "output_type": "display_data",
          "data": {
            "text/html": [
              "<html>\n",
              "<head><meta charset=\"utf-8\" /></head>\n",
              "<body>\n",
              "    <div>            <script src=\"https://cdnjs.cloudflare.com/ajax/libs/mathjax/2.7.5/MathJax.js?config=TeX-AMS-MML_SVG\"></script><script type=\"text/javascript\">if (window.MathJax && window.MathJax.Hub && window.MathJax.Hub.Config) {window.MathJax.Hub.Config({SVG: {font: \"STIX-Web\"}});}</script>                <script type=\"text/javascript\">window.PlotlyConfig = {MathJaxConfig: 'local'};</script>\n",
              "        <script src=\"https://cdn.plot.ly/plotly-2.18.2.min.js\"></script>                <div id=\"f81b9111-b283-4b2e-bbeb-4bc5e515a903\" class=\"plotly-graph-div\" style=\"height:525px; width:100%;\"></div>            <script type=\"text/javascript\">                                    window.PLOTLYENV=window.PLOTLYENV || {};                                    if (document.getElementById(\"f81b9111-b283-4b2e-bbeb-4bc5e515a903\")) {                    Plotly.newPlot(                        \"f81b9111-b283-4b2e-bbeb-4bc5e515a903\",                        [{\"visible\":true,\"x\":[\"2019-12-01\",\"2019-12-02\",\"2019-12-03\",\"2019-12-04\",\"2019-12-05\",\"2019-12-06\",\"2019-12-07\",\"2019-12-08\",\"2019-12-09\",\"2019-12-10\",\"2019-12-11\",\"2019-12-12\",\"2019-12-13\",\"2019-12-14\",\"2019-12-15\",\"2019-12-16\",\"2019-12-17\",\"2019-12-18\",\"2019-12-19\",\"2019-12-20\",\"2019-12-21\",\"2019-12-22\",\"2019-12-23\",\"2019-12-24\",\"2019-12-25\",\"2019-12-26\",\"2019-12-27\",\"2019-12-28\",\"2019-12-29\",\"2019-12-30\",\"2019-12-31\",\"2020-01-01\",\"2020-01-02\",\"2020-01-03\",\"2020-01-04\",\"2020-01-05\",\"2020-01-06\",\"2020-01-07\",\"2020-01-08\",\"2020-01-09\",\"2020-01-10\",\"2020-01-11\",\"2020-01-12\",\"2020-01-13\",\"2020-01-14\",\"2020-01-15\",\"2020-01-16\",\"2020-01-17\",\"2020-01-18\",\"2020-01-19\",\"2020-01-20\",\"2020-01-21\",\"2020-01-22\",\"2020-01-23\",\"2020-01-24\",\"2020-01-25\",\"2020-01-26\",\"2020-01-27\",\"2020-01-28\",\"2020-01-29\",\"2020-01-30\",\"2020-01-31\",\"2020-02-01\",\"2020-02-02\",\"2020-02-03\",\"2020-02-04\",\"2020-02-05\",\"2020-02-06\",\"2020-02-07\",\"2020-02-08\",\"2020-02-09\",\"2020-02-10\",\"2020-02-11\",\"2020-02-12\",\"2020-02-13\",\"2020-02-14\",\"2020-02-15\",\"2020-02-16\",\"2020-02-17\",\"2020-02-18\",\"2020-02-19\",\"2020-02-20\",\"2020-02-21\",\"2020-02-22\",\"2020-02-23\",\"2020-02-24\",\"2020-02-25\",\"2020-02-26\",\"2020-02-27\",\"2020-02-28\",\"2020-02-29\",\"2020-03-01\",\"2020-03-02\",\"2020-03-03\",\"2020-03-04\",\"2020-03-05\",\"2020-03-06\",\"2020-03-07\",\"2020-03-08\",\"2020-03-09\",\"2020-03-10\",\"2020-03-11\",\"2020-03-12\",\"2020-03-13\",\"2020-03-14\",\"2020-03-15\",\"2020-03-16\",\"2020-03-17\",\"2020-03-18\",\"2020-03-19\",\"2020-03-20\",\"2020-03-21\",\"2020-03-22\",\"2020-03-23\",\"2020-03-24\",\"2020-03-25\",\"2020-03-26\",\"2020-03-27\",\"2020-03-28\",\"2020-03-29\",\"2020-03-30\",\"2020-03-31\",\"2020-04-01\",\"2020-04-02\",\"2020-04-03\",\"2020-04-04\",\"2020-04-05\",\"2020-04-06\",\"2020-04-07\",\"2020-04-08\",\"2020-04-09\",\"2020-04-10\",\"2020-04-11\",\"2020-04-12\",\"2020-04-13\",\"2020-04-14\",\"2020-04-15\",\"2020-04-16\",\"2020-04-17\",\"2020-04-18\",\"2020-04-19\",\"2020-04-20\",\"2020-04-21\",\"2020-04-22\",\"2020-04-23\",\"2020-04-24\",\"2020-04-25\",\"2020-04-26\",\"2020-04-27\",\"2020-04-28\",\"2020-04-29\",\"2020-04-30\",\"2020-05-01\",\"2020-05-02\",\"2020-05-03\",\"2020-05-04\",\"2020-05-05\",\"2020-05-06\",\"2020-05-07\",\"2020-05-08\",\"2020-05-09\",\"2020-05-10\",\"2020-05-11\",\"2020-05-12\",\"2020-05-13\",\"2020-05-14\",\"2020-05-15\",\"2020-05-16\",\"2020-05-17\",\"2020-05-18\",\"2020-05-19\",\"2020-05-20\",\"2020-05-21\",\"2020-05-22\",\"2020-05-23\",\"2020-05-24\",\"2020-05-25\",\"2020-05-26\",\"2020-05-27\",\"2020-05-28\",\"2020-05-29\",\"2020-05-30\",\"2020-05-31\",\"2020-06-01\"],\"y\":[1,1,1,190,352,304,265,266,430,367,364,389,310,254,270,461,395,414,364,273,257,310,403,390,362,349,351,241,266,371,394,322,412,410,239,277,380,405,372,347,317,225,231,358,322,292,338,361,220,209,357,338,315,325,272,203,211,345,330,380,342,364,260,255,373,327,372,379,353,232,279,357,382,336,345,349,272,288,475,417,401,354,342,318,273,467,507,320,329,351,237,253,367,334,288,214,213,184,219,282,267,233,272,249,218,244,280,310,337,332,345,284,253,370,351,344,315,330,295,290,380,358,294,314,318,336,367,486,402,363,373,446,377,417,419,366,393,483,433,338,416,429,430,384,407,476,363,406,417,501,458,425,323,384,314,403,426,412,399,369,312,310,400,403,401,411,351,317,346,357,337,329,315,325,295,302,504,444,363,347,363,280,384,374],\"type\":\"scatter\"}],                        {\"template\":{\"data\":{\"histogram2dcontour\":[{\"type\":\"histogram2dcontour\",\"colorbar\":{\"outlinewidth\":0,\"ticks\":\"\"},\"colorscale\":[[0.0,\"#0d0887\"],[0.1111111111111111,\"#46039f\"],[0.2222222222222222,\"#7201a8\"],[0.3333333333333333,\"#9c179e\"],[0.4444444444444444,\"#bd3786\"],[0.5555555555555556,\"#d8576b\"],[0.6666666666666666,\"#ed7953\"],[0.7777777777777778,\"#fb9f3a\"],[0.8888888888888888,\"#fdca26\"],[1.0,\"#f0f921\"]]}],\"choropleth\":[{\"type\":\"choropleth\",\"colorbar\":{\"outlinewidth\":0,\"ticks\":\"\"}}],\"histogram2d\":[{\"type\":\"histogram2d\",\"colorbar\":{\"outlinewidth\":0,\"ticks\":\"\"},\"colorscale\":[[0.0,\"#0d0887\"],[0.1111111111111111,\"#46039f\"],[0.2222222222222222,\"#7201a8\"],[0.3333333333333333,\"#9c179e\"],[0.4444444444444444,\"#bd3786\"],[0.5555555555555556,\"#d8576b\"],[0.6666666666666666,\"#ed7953\"],[0.7777777777777778,\"#fb9f3a\"],[0.8888888888888888,\"#fdca26\"],[1.0,\"#f0f921\"]]}],\"heatmap\":[{\"type\":\"heatmap\",\"colorbar\":{\"outlinewidth\":0,\"ticks\":\"\"},\"colorscale\":[[0.0,\"#0d0887\"],[0.1111111111111111,\"#46039f\"],[0.2222222222222222,\"#7201a8\"],[0.3333333333333333,\"#9c179e\"],[0.4444444444444444,\"#bd3786\"],[0.5555555555555556,\"#d8576b\"],[0.6666666666666666,\"#ed7953\"],[0.7777777777777778,\"#fb9f3a\"],[0.8888888888888888,\"#fdca26\"],[1.0,\"#f0f921\"]]}],\"heatmapgl\":[{\"type\":\"heatmapgl\",\"colorbar\":{\"outlinewidth\":0,\"ticks\":\"\"},\"colorscale\":[[0.0,\"#0d0887\"],[0.1111111111111111,\"#46039f\"],[0.2222222222222222,\"#7201a8\"],[0.3333333333333333,\"#9c179e\"],[0.4444444444444444,\"#bd3786\"],[0.5555555555555556,\"#d8576b\"],[0.6666666666666666,\"#ed7953\"],[0.7777777777777778,\"#fb9f3a\"],[0.8888888888888888,\"#fdca26\"],[1.0,\"#f0f921\"]]}],\"contourcarpet\":[{\"type\":\"contourcarpet\",\"colorbar\":{\"outlinewidth\":0,\"ticks\":\"\"}}],\"contour\":[{\"type\":\"contour\",\"colorbar\":{\"outlinewidth\":0,\"ticks\":\"\"},\"colorscale\":[[0.0,\"#0d0887\"],[0.1111111111111111,\"#46039f\"],[0.2222222222222222,\"#7201a8\"],[0.3333333333333333,\"#9c179e\"],[0.4444444444444444,\"#bd3786\"],[0.5555555555555556,\"#d8576b\"],[0.6666666666666666,\"#ed7953\"],[0.7777777777777778,\"#fb9f3a\"],[0.8888888888888888,\"#fdca26\"],[1.0,\"#f0f921\"]]}],\"surface\":[{\"type\":\"surface\",\"colorbar\":{\"outlinewidth\":0,\"ticks\":\"\"},\"colorscale\":[[0.0,\"#0d0887\"],[0.1111111111111111,\"#46039f\"],[0.2222222222222222,\"#7201a8\"],[0.3333333333333333,\"#9c179e\"],[0.4444444444444444,\"#bd3786\"],[0.5555555555555556,\"#d8576b\"],[0.6666666666666666,\"#ed7953\"],[0.7777777777777778,\"#fb9f3a\"],[0.8888888888888888,\"#fdca26\"],[1.0,\"#f0f921\"]]}],\"mesh3d\":[{\"type\":\"mesh3d\",\"colorbar\":{\"outlinewidth\":0,\"ticks\":\"\"}}],\"scatter\":[{\"fillpattern\":{\"fillmode\":\"overlay\",\"size\":10,\"solidity\":0.2},\"type\":\"scatter\"}],\"parcoords\":[{\"type\":\"parcoords\",\"line\":{\"colorbar\":{\"outlinewidth\":0,\"ticks\":\"\"}}}],\"scatterpolargl\":[{\"type\":\"scatterpolargl\",\"marker\":{\"colorbar\":{\"outlinewidth\":0,\"ticks\":\"\"}}}],\"bar\":[{\"error_x\":{\"color\":\"#2a3f5f\"},\"error_y\":{\"color\":\"#2a3f5f\"},\"marker\":{\"line\":{\"color\":\"#E5ECF6\",\"width\":0.5},\"pattern\":{\"fillmode\":\"overlay\",\"size\":10,\"solidity\":0.2}},\"type\":\"bar\"}],\"scattergeo\":[{\"type\":\"scattergeo\",\"marker\":{\"colorbar\":{\"outlinewidth\":0,\"ticks\":\"\"}}}],\"scatterpolar\":[{\"type\":\"scatterpolar\",\"marker\":{\"colorbar\":{\"outlinewidth\":0,\"ticks\":\"\"}}}],\"histogram\":[{\"marker\":{\"pattern\":{\"fillmode\":\"overlay\",\"size\":10,\"solidity\":0.2}},\"type\":\"histogram\"}],\"scattergl\":[{\"type\":\"scattergl\",\"marker\":{\"colorbar\":{\"outlinewidth\":0,\"ticks\":\"\"}}}],\"scatter3d\":[{\"type\":\"scatter3d\",\"line\":{\"colorbar\":{\"outlinewidth\":0,\"ticks\":\"\"}},\"marker\":{\"colorbar\":{\"outlinewidth\":0,\"ticks\":\"\"}}}],\"scattermapbox\":[{\"type\":\"scattermapbox\",\"marker\":{\"colorbar\":{\"outlinewidth\":0,\"ticks\":\"\"}}}],\"scatterternary\":[{\"type\":\"scatterternary\",\"marker\":{\"colorbar\":{\"outlinewidth\":0,\"ticks\":\"\"}}}],\"scattercarpet\":[{\"type\":\"scattercarpet\",\"marker\":{\"colorbar\":{\"outlinewidth\":0,\"ticks\":\"\"}}}],\"carpet\":[{\"aaxis\":{\"endlinecolor\":\"#2a3f5f\",\"gridcolor\":\"white\",\"linecolor\":\"white\",\"minorgridcolor\":\"white\",\"startlinecolor\":\"#2a3f5f\"},\"baxis\":{\"endlinecolor\":\"#2a3f5f\",\"gridcolor\":\"white\",\"linecolor\":\"white\",\"minorgridcolor\":\"white\",\"startlinecolor\":\"#2a3f5f\"},\"type\":\"carpet\"}],\"table\":[{\"cells\":{\"fill\":{\"color\":\"#EBF0F8\"},\"line\":{\"color\":\"white\"}},\"header\":{\"fill\":{\"color\":\"#C8D4E3\"},\"line\":{\"color\":\"white\"}},\"type\":\"table\"}],\"barpolar\":[{\"marker\":{\"line\":{\"color\":\"#E5ECF6\",\"width\":0.5},\"pattern\":{\"fillmode\":\"overlay\",\"size\":10,\"solidity\":0.2}},\"type\":\"barpolar\"}],\"pie\":[{\"automargin\":true,\"type\":\"pie\"}]},\"layout\":{\"autotypenumbers\":\"strict\",\"colorway\":[\"#636efa\",\"#EF553B\",\"#00cc96\",\"#ab63fa\",\"#FFA15A\",\"#19d3f3\",\"#FF6692\",\"#B6E880\",\"#FF97FF\",\"#FECB52\"],\"font\":{\"color\":\"#2a3f5f\"},\"hovermode\":\"closest\",\"hoverlabel\":{\"align\":\"left\"},\"paper_bgcolor\":\"white\",\"plot_bgcolor\":\"#E5ECF6\",\"polar\":{\"bgcolor\":\"#E5ECF6\",\"angularaxis\":{\"gridcolor\":\"white\",\"linecolor\":\"white\",\"ticks\":\"\"},\"radialaxis\":{\"gridcolor\":\"white\",\"linecolor\":\"white\",\"ticks\":\"\"}},\"ternary\":{\"bgcolor\":\"#E5ECF6\",\"aaxis\":{\"gridcolor\":\"white\",\"linecolor\":\"white\",\"ticks\":\"\"},\"baxis\":{\"gridcolor\":\"white\",\"linecolor\":\"white\",\"ticks\":\"\"},\"caxis\":{\"gridcolor\":\"white\",\"linecolor\":\"white\",\"ticks\":\"\"}},\"coloraxis\":{\"colorbar\":{\"outlinewidth\":0,\"ticks\":\"\"}},\"colorscale\":{\"sequential\":[[0.0,\"#0d0887\"],[0.1111111111111111,\"#46039f\"],[0.2222222222222222,\"#7201a8\"],[0.3333333333333333,\"#9c179e\"],[0.4444444444444444,\"#bd3786\"],[0.5555555555555556,\"#d8576b\"],[0.6666666666666666,\"#ed7953\"],[0.7777777777777778,\"#fb9f3a\"],[0.8888888888888888,\"#fdca26\"],[1.0,\"#f0f921\"]],\"sequentialminus\":[[0.0,\"#0d0887\"],[0.1111111111111111,\"#46039f\"],[0.2222222222222222,\"#7201a8\"],[0.3333333333333333,\"#9c179e\"],[0.4444444444444444,\"#bd3786\"],[0.5555555555555556,\"#d8576b\"],[0.6666666666666666,\"#ed7953\"],[0.7777777777777778,\"#fb9f3a\"],[0.8888888888888888,\"#fdca26\"],[1.0,\"#f0f921\"]],\"diverging\":[[0,\"#8e0152\"],[0.1,\"#c51b7d\"],[0.2,\"#de77ae\"],[0.3,\"#f1b6da\"],[0.4,\"#fde0ef\"],[0.5,\"#f7f7f7\"],[0.6,\"#e6f5d0\"],[0.7,\"#b8e186\"],[0.8,\"#7fbc41\"],[0.9,\"#4d9221\"],[1,\"#276419\"]]},\"xaxis\":{\"gridcolor\":\"white\",\"linecolor\":\"white\",\"ticks\":\"\",\"title\":{\"standoff\":15},\"zerolinecolor\":\"white\",\"automargin\":true,\"zerolinewidth\":2},\"yaxis\":{\"gridcolor\":\"white\",\"linecolor\":\"white\",\"ticks\":\"\",\"title\":{\"standoff\":15},\"zerolinecolor\":\"white\",\"automargin\":true,\"zerolinewidth\":2},\"scene\":{\"xaxis\":{\"backgroundcolor\":\"#E5ECF6\",\"gridcolor\":\"white\",\"linecolor\":\"white\",\"showbackground\":true,\"ticks\":\"\",\"zerolinecolor\":\"white\",\"gridwidth\":2},\"yaxis\":{\"backgroundcolor\":\"#E5ECF6\",\"gridcolor\":\"white\",\"linecolor\":\"white\",\"showbackground\":true,\"ticks\":\"\",\"zerolinecolor\":\"white\",\"gridwidth\":2},\"zaxis\":{\"backgroundcolor\":\"#E5ECF6\",\"gridcolor\":\"white\",\"linecolor\":\"white\",\"showbackground\":true,\"ticks\":\"\",\"zerolinecolor\":\"white\",\"gridwidth\":2}},\"shapedefaults\":{\"line\":{\"color\":\"#2a3f5f\"}},\"annotationdefaults\":{\"arrowcolor\":\"#2a3f5f\",\"arrowhead\":0,\"arrowwidth\":1},\"geo\":{\"bgcolor\":\"white\",\"landcolor\":\"#E5ECF6\",\"subunitcolor\":\"white\",\"showland\":true,\"showlakes\":true,\"lakecolor\":\"white\"},\"title\":{\"x\":0.05},\"mapbox\":{\"style\":\"light\"}}},\"yaxis\":{\"showgrid\":false},\"xaxis\":{\"rangeslider\":{\"visible\":true},\"showgrid\":false,\"rangeselector\":{\"buttons\":[{\"count\":1,\"label\":\"1m\",\"step\":\"month\",\"stepmode\":\"backward\"},{\"count\":3,\"label\":\"3m\",\"step\":\"month\",\"stepmode\":\"backward\"},{\"step\":\"all\"}]}},\"title\":{\"text\":\"LivebookLogin\"},\"updatemenus\":[{\"buttons\":[{\"args\":[{\"y\":[[1,1,1,190,352,304,265,266,430,367,364,389,310,254,270,461,395,414,364,273,257,310,403,390,362,349,351,241,266,371,394,322,412,410,239,277,380,405,372,347,317,225,231,358,322,292,338,361,220,209,357,338,315,325,272,203,211,345,330,380,342,364,260,255,373,327,372,379,353,232,279,357,382,336,345,349,272,288,475,417,401,354,342,318,273,467,507,320,329,351,237,253,367,334,288,214,213,184,219,282,267,233,272,249,218,244,280,310,337,332,345,284,253,370,351,344,315,330,295,290,380,358,294,314,318,336,367,486,402,363,373,446,377,417,419,366,393,483,433,338,416,429,430,384,407,476,363,406,417,501,458,425,323,384,314,403,426,412,399,369,312,310,400,403,401,411,351,317,346,357,337,329,315,325,295,302,504,444,363,347,363,280,384,374]],\"visible\":true},{\"title\":\"LivebookLogin\"},[0]],\"label\":\"LivebookLogin\",\"method\":\"update\"},{\"args\":[{\"y\":[[387,687,411,483,447,309,577,573,1467,1137,689,859,565,763,651,1158,1006,897,1032,583,873,353,914,1160,1176,695,307,275,294,940,901,1300,365,284,201,407,282,524,228,951,641,732,459,711,271,1100,616,750,642,443,246,384,634,834,716,203,574,337,432,490,232,340,302,242,410,365,318,320,320,207,281,276,285,262,289,301,261,260,355,337,277,379,326,245,296,324,272,317,265,449,609,417,356,286,281,276,261,233,220,270,286,268,522,299,228,209,263,454,361,469,564,346,170,341,323,288,340,285,240,300,415,337,239,301,615,347,376,458,357,463,347,506,468,416,492,349,359,410,385,364,400,417,349,382,663,950,1113,477,467,597,538,689,455,567,475,397,344,396,469,839,363,387,434,426,398,362,422,430,444,395,324,363,341,351,303,334,806,793,471,336,451,574,563,413]],\"visible\":true},{\"title\":\"ProductTocLivebookLinkOpened\"},[0]],\"label\":\"ProductTocLivebookLinkOpened\",\"method\":\"update\"},{\"args\":[{\"y\":[[503,690,610,597,619,510,369,352,819,560,526,651,440,305,349,783,671,528,537,578,448,453,544,664,730,599,434,331,359,647,842,622,540,400,328,312,441,434,345,430,361,284,288,507,427,375,493,484,290,311,514,490,417,415,448,277,348,498,403,398,429,423,318,307,511,414,504,560,633,332,494,542,610,614,518,463,408,536,578,586,569,609,623,531,485,600,557,548,442,571,531,486,445,577,415,448,397,385,340,499,487,365,447,414,421,386,412,629,455,628,661,402,436,451,535,497,492,469,356,368,483,497,576,519,515,462,493,600,524,516,567,731,615,551,783,642,562,603,585,554,531,543,631,567,859,974,850,768,592,725,726,801,710,652,673,670,688,698,636,579,550,525,652,672,655,591,731,586,601,630,541,669,575,624,459,533,804,696,525,576,589,708,759,618]],\"visible\":true},{\"title\":\"ReadingOpenChapter\"},[0]],\"label\":\"ReadingOpenChapter\",\"method\":\"update\"},{\"args\":[{\"y\":[[577,886,951,659,923,794,677,771,1056,888,1104,1008,932,991,761,910,924,944,845,543,636,596,564,460,458,554,744,561,551,556,425,334,464,958,780,757,758,683,1222,573,267,359,434,937,450,697,890,564,162,341,853,591,499,374,441,299,315,505,429,448,445,350,379,444,652,894,623,604,664,269,400,900,594,460,672,465,248,496,663,948,611,698,436,552,840,540,665,479,401,444,586,672,613,546,874,582,618,470,500,778,466,459,424,294,160,309,275,318,367,451,390,396,629,518,488,580,630,428,816,830,703,460,651,415,406,811,955,464,393,664,630,839,866,714,890,746,856,557,616,995,711,738,728,841,981,694,869,1175,977,1127,669,699,471,924,893,853,1075,828,688,938,812,968,568,626,795,375,313,740,833,826,478,607,487,479,916,765,835,882,678,916,709,747,1018,963]],\"visible\":true},{\"title\":\"HighlightCreated\"},[0]],\"label\":\"HighlightCreated\",\"method\":\"update\"},{\"args\":[{\"y\":[[1,1,1,1,176,177,121,155,552,281,179,160,164,111,133,635,331,172,157,185,218,210,285,464,517,210,219,140,146,320,541,562,378,337,126,134,342,329,366,429,405,136,138,232,266,322,314,293,265,256,269,654,338,294,246,355,276,243,247,327,307,176,130,131,248,290,296,512,389,234,245,171,211,282,290,270,151,199,169,300,305,228,253,213,124,205,458,334,326,380,703,516,353,311,252,276,281,199,191,293,329,383,422,445,220,319,378,724,402,377,571,236,168,164,234,227,197,295,161,144,360,317,311,431,606,870,531,3221,2066,772,765,2688,1481,1344,1312,910,864,2406,2075,1221,18887,7461,3144,2189,2163,3440,1947,1537,1212,963,737,630,501,287,196,295,296,227,415,378,446,484,393,386,416,231,384,377,318,304,357,426,481,429,304,577,824,905,339,237,417,600,658,456]],\"visible\":true},{\"title\":\"FreeContentCheckout\"},[0]],\"label\":\"FreeContentCheckout\",\"method\":\"update\"},{\"args\":[{\"y\":[[502,729,596,671,549,489,381,471,856,640,605,714,572,403,458,863,669,698,603,556,388,477,665,698,649,646,573,365,360,735,695,623,712,559,431,501,741,736,659,615,579,369,391,661,570,470,582,585,415,445,565,638,571,523,417,363,301,525,498,570,609,601,499,498,699,645,806,936,861,511,655,882,826,796,767,806,637,704,873,936,980,791,840,651,585,843,800,761,756,794,867,703,904,669,635,679,568,472,474,666,592,650,635,643,401,451,625,791,781,870,917,720,550,725,737,927,853,730,617,768,914,858,582,751,776,849,881,817,973,821,848,841,888,841,923,856,865,746,672,795,779,834,1048,937,1206,1341,993,1029,1045,1110,1099,1124,771,811,702,879,1066,992,1015,1066,863,744,996,967,1161,1120,1085,854,862,842,863,970,753,864,790,786,1419,1155,846,794,976,811,981,948]],\"visible\":true},{\"title\":\"ReadingFreePreview\"},[0]],\"label\":\"ReadingFreePreview\",\"method\":\"update\"},{\"args\":[{\"y\":[[1,1,1,2,1510,1492,1115,972,1514,1450,1145,1547,1134,796,1499,1826,2213,1991,1682,1543,1396,1466,1872,1717,1632,1599,1157,1043,911,1406,2275,2656,1912,1547,1065,924,1509,1668,1688,1249,1386,1173,1532,1360,1318,1352,1955,1378,1243,1243,1499,1384,1709,2054,1514,1151,1306,1372,1563,1873,1583,1463,1317,1041,1057,1249,1488,1653,1657,1052,1214,1290,1148,1170,1026,1142,874,1055,1462,1741,1209,1321,1392,1000,959,1053,1288,1656,1478,1935,1903,1494,1860,1640,924,1525,1458,1124,1429,1477,1482,1109,1114,1171,837,1087,1285,1635,2054,1581,1905,1328,1181,1438,1471,1149,1027,1133,962,1049,1427,1563,1639,1343,1428,1529,1537,2290,2121,1329,1934,3481,2142,2374,2005,1609,1515,3214,2462,1861,4789,2783,2283,1851,1977,2720,2037,1858,1401,2278,2136,1961,1451,1378,1013,1296,1437,1348,1421,1112,1239,1275,991,1644,1536,1618,1610,1817,1440,1261,1313,1230,1229,1069,1156,1456,1872,1977,1815,1440,1587,1518,1497,1309]],\"visible\":true},{\"title\":\"EBookDownloaded\"},[0]],\"label\":\"EBookDownloaded\",\"method\":\"update\"},{\"args\":[{\"y\":[[1,1,1,1,1,1,1,1,1,1,1,1,1,1,1,1,1,1,1,1,1,1,1,1,1,1,1,1,1,1,1,1,1,1,1,1,1,1,1,1,1,1,1,1,1,1,1,1,1,1,1,1,1,1,1,1,1,1,1,1,1,1,1,1,1,1,1,1,1,1,1,1,1,1,1,1,1,1,1,1,1,1,1,1,1,1,1,1,1,1,1,1,1,1,1,1,1,1,1,1,1,5763,7404,6367,3885,4182,6009,7215,6369,7219,6856,5033,4930,7775,9368,10043,9630,9213,5951,6229,8966,8220,9219,10509,7386,5704,5859,9695,8997,8026,8333,8091,6144,6396,8843,9625,8604,8845,7927,6101,14137,11966,9258,9131,9413,10113,6636,6860,9355,10154,9380,8373,6763,5788,5889,8537,9117,9992,9598,8388,5812,5851,8814,9092,8731,8586,7663,5370,5627,8248,8116,8174,7572,7320,5359,5407,7704,8699,7729,7637,7016,4598,5256,7125]],\"visible\":true},{\"title\":\"FirstManningAccess\"},[0]],\"label\":\"FirstManningAccess\",\"method\":\"update\"},{\"args\":[{\"y\":[[1,1,1,1,1,1,1,1,1,1,1,1,1,1,1,1,1,1,1,1,1,1,1,1,1,1,1,1,1,1,1,1,1,1,1,1,1,1,1,1,1,1,1,1,1,1,1,1,1,1,1,1,1,1,1,1,1,1,1,1,1,1,1,1,1,1,1,1,1,1,1,1,1,1,1,1,1,1,1,1,1,1,1,1,1,1,1,1,1,1,1,1,1,1,1,1,1,1,1,1,1,5723,7324,6342,3840,4146,5959,7176,6320,7174,6812,4998,4880,7741,9320,10004,9557,9196,5934,6187,8902,8201,9173,10468,7377,5711,5851,9787,9025,8008,8314,8168,6184,6417,8860,9637,8619,8913,7974,6145,14890,12265,9378,9193,9470,10219,6692,6897,9381,10146,9396,8376,6751,5772,5876,8519,9118,9975,9599,8383,5819,5843,8784,9080,8725,8576,7653,5363,5605,8252,8129,8178,7560,7321,5346,5428,7726,8720,7741,7640,7034,4597,5258,7123]],\"visible\":true},{\"title\":\"FirstLivebookAccess\"},[0]],\"label\":\"FirstLivebookAccess\",\"method\":\"update\"},{\"args\":[{\"y\":[[2549,3556,3581,3544,3206,3010,2009,2151,3494,3458,3340,3481,3097,2067,2405,3813,3866,3759,3568,3043,2319,2538,3593,3250,2581,3333,3352,2542,2701,3547,3409,3126,4629,4088,2678,2870,4197,4163,3990,3975,3575,2370,2527,3901,3871,3685,3871,3508,2060,2222,3538,3802,3692,3574,3498,2071,2414,3416,3562,3704,3212,3154,2466,2383,3728,3871,4101,4874,4415,3153,3423,5031,4833,4482,4520,4262,2983,3344,4959,5321,4807,4646,4436,3071,3388,4137,4416,4166,4075,3877,3246,3743,4553,4512,4160,3877,3844,2820,3100,4387,3944,3861,3638,3466,2720,3151,3694,3870,3979,3623,3889,3642,3722,4312,4141,4023,3885,3801,3396,3898,4384,4165,4103,4164,3827,3801,4209,4072,4623,4482,4625,4752,4429,4643,5386,5058,5026,4576,4631,4208,5262,5015,4555,4719,4884,5320,4907,5227,5859,6177,5597,5306,5247,4666,4839,5157,5141,5550,5066,4967,4215,4501,5030,5243,5266,4869,4544,4451,4725,4963,5093,4775,4529,4502,4182,4129,5520,5577,5191,5078,4599,4180,4874,5035]],\"visible\":true},{\"title\":\"ReadingOwnedBook\"},[0]],\"label\":\"ReadingOwnedBook\",\"method\":\"update\"}],\"direction\":\"down\",\"showactive\":true,\"x\":1,\"xanchor\":\"right\",\"y\":1.16,\"yanchor\":\"top\"}]},                        {\"responsive\": true}                    ).then(function(){\n",
              "                            \n",
              "var gd = document.getElementById('f81b9111-b283-4b2e-bbeb-4bc5e515a903');\n",
              "var x = new MutationObserver(function (mutations, observer) {{\n",
              "        var display = window.getComputedStyle(gd).display;\n",
              "        if (!display || display === 'none') {{\n",
              "            console.log([gd, 'removed!']);\n",
              "            Plotly.purge(gd);\n",
              "            observer.disconnect();\n",
              "        }}\n",
              "}});\n",
              "\n",
              "// Listen for the removal of the full notebook cells\n",
              "var notebookContainer = gd.closest('#notebook-container');\n",
              "if (notebookContainer) {{\n",
              "    x.observe(notebookContainer, {childList: true});\n",
              "}}\n",
              "\n",
              "// Listen for the clearing of the current output cell\n",
              "var outputEl = gd.closest('.output');\n",
              "if (outputEl) {{\n",
              "    x.observe(outputEl, {childList: true});\n",
              "}}\n",
              "\n",
              "                        })                };                            </script>        </div>\n",
              "</body>\n",
              "</html>"
            ]
          },
          "metadata": {}
        }
      ]
    }
  ]
}